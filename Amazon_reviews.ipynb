{
  "nbformat": 4,
  "nbformat_minor": 0,
  "metadata": {
    "colab": {
      "name": "Amazon_reviews.ipynb",
      "provenance": []
    },
    "kernelspec": {
      "name": "python3",
      "display_name": "Python 3"
    },
    "language_info": {
      "name": "python"
    }
  },
  "cells": [
    {
      "cell_type": "code",
      "execution_count": null,
      "metadata": {
        "id": "0NOB6DGLDN09"
      },
      "outputs": [],
      "source": [
        ""
      ]
    },
    {
      "cell_type": "markdown",
      "metadata": {
        "id": "5M-RR7X32Aif"
      },
      "source": [
        "# **Amazon's Reviews Analysis**\n"
      ]
    },
    {
      "cell_type": "code",
      "execution_count": null,
      "metadata": {
        "colab": {
          "base_uri": "https://localhost:8080/"
        },
        "id": "Y4SsA585n0PQ",
        "outputId": "c025742d-da47-4fe1-d92b-1389fa005229"
      },
      "outputs": [
        {
          "output_type": "stream",
          "name": "stdout",
          "text": [
            "Mounted at /content/drive\n"
          ]
        }
      ],
      "source": [
        "from google.colab import drive\n",
        "drive.mount('/content/drive')"
      ]
    },
    {
      "cell_type": "code",
      "execution_count": null,
      "metadata": {
        "colab": {
          "base_uri": "https://localhost:8080/"
        },
        "id": "mZkS5kLVTln1",
        "outputId": "d4665342-db81-4074-e3e5-553f9f980989"
      },
      "outputs": [
        {
          "output_type": "stream",
          "name": "stdout",
          "text": [
            "[nltk_data] Downloading package stopwords to /root/nltk_data...\n",
            "[nltk_data]   Unzipping corpora/stopwords.zip.\n",
            "[nltk_data] Downloading package wordnet to /root/nltk_data...\n",
            "[nltk_data]   Unzipping corpora/wordnet.zip.\n"
          ]
        }
      ],
      "source": [
        "# Management Data\n",
        "import tarfile\n",
        "import gzip\n",
        "import shutil\n",
        "from shutil import copyfile\n",
        "\n",
        "import warnings\n",
        "import pandas as pd\n",
        "import numpy as np\n",
        "\n",
        "# Preprocessing Data\n",
        "import os\n",
        "import string\n",
        "import collections\n",
        "import re\n",
        "import nltk\n",
        "from nltk.corpus import stopwords\n",
        "from nltk.tokenize import wordpunct_tokenize\n",
        "from nltk.stem import WordNetLemmatizer\n",
        "from nltk.stem.porter import PorterStemmer\n",
        "from collections import Counter\n",
        "nltk.download('stopwords')\n",
        "nltk.download('wordnet')\n",
        "\n",
        "# Text Representation\n",
        "from sklearn.model_selection import train_test_split\n",
        "from sklearn.feature_extraction.text import TfidfVectorizer\n",
        "from sklearn.feature_extraction.text import CountVectorizer\n",
        "from keras.preprocessing.text import Tokenizer\n",
        "from keras.preprocessing.sequence import pad_sequences\n",
        "\n",
        "# Text Classification\n",
        "from sklearn.metrics import (precision_recall_curve, auc, confusion_matrix,\n",
        "                             f1_score, fbeta_score, precision_score,\n",
        "                             recall_score, classification_report)\n",
        "import itertools\n",
        "from sklearn import metrics\n",
        "from sklearn.metrics import plot_confusion_matrix\n",
        "from sklearn.ensemble import AdaBoostClassifier\n",
        "from sklearn.neural_network import MLPClassifier\n",
        "\n",
        "# Neural Network tools\n",
        "import matplotlib.pyplot as plt\n",
        "import tensorflow as tf\n",
        "import keras\n",
        "from keras.models import Sequential\n",
        "from keras import Input\n",
        "from keras.layers import Dense, Dropout, Flatten\n",
        "from tensorflow.keras.optimizers import SGD, Adadelta, Adam\n",
        "from tensorflow.keras import regularizers\n",
        "from keras.models import Model\n",
        "\n",
        "# Clustering\n",
        "from sklearn.decomposition import TruncatedSVD\n",
        "import seaborn as sns\n",
        "import plotly.express as px\n",
        "from sklearn.cluster import KMeans\n",
        "from sklearn.cluster import AgglomerativeClustering\n",
        "import scipy.cluster.hierarchy as sch\n",
        "from sklearn.metrics.pairwise import pairwise_distances_chunked\n",
        "from yellowbrick.cluster import KElbowVisualizer\n",
        "import matplotlib.patches as mpatches\n",
        "import scipy.spatial.distance as scdist\n",
        "from sklearn import metrics"
      ]
    },
    {
      "cell_type": "code",
      "execution_count": null,
      "metadata": {
        "id": "pu8n4tR1WEi0"
      },
      "outputs": [],
      "source": [
        "# Copia file gzip in runtime\n",
        "path = '/path/to/file'\n",
        "copyfile(path + 'amazon_review_full_csv.tar.gz',\n",
        "         'amazon_review_full_csv.tar.gz')\n",
        "\n",
        "# Unzip di file gzip e salvataggio in file tar\n",
        "with gzip.open('amazon_review_full_csv.tar.gz', 'rb') as f_in:\n",
        "    with open('amazon_review_full_csv.tar', 'wb') as f_out:\n",
        "        shutil.copyfileobj(f_in, f_out)\n",
        "\n",
        "# Estrazione contenuto file tar\n",
        "tar = tarfile.open('amazon_review_full_csv.tar')\n",
        "tar.extractall()\n",
        "tar.close()"
      ]
    },
    {
      "cell_type": "code",
      "execution_count": null,
      "metadata": {
        "id": "m951lrgTWN-w"
      },
      "outputs": [],
      "source": [
        "train = pd.read_csv('/content/amazon_review_full_csv/train.csv', \n",
        "                   names=['label', 'title', 'text'], header=None)\n",
        "test = pd.read_csv('/content/amazon_review_full_csv/test.csv', \n",
        "                   names=['label', 'title', 'text'], header=None)"
      ]
    },
    {
      "cell_type": "code",
      "execution_count": null,
      "metadata": {
        "colab": {
          "base_uri": "https://localhost:8080/"
        },
        "id": "w_l7W0Utv0xU",
        "outputId": "ae918ea8-7ec3-4534-ae6f-c486b9a026cd"
      },
      "outputs": [
        {
          "name": "stdout",
          "output_type": "stream",
          "text": [
            "Dimensione train set: (3000000, 3)\n",
            "Dimensione test set: (650000, 3)\n"
          ]
        }
      ],
      "source": [
        "print(\"Dimensione train set:\", train.shape)\n",
        "print(\"Dimensione test set:\", test.shape)"
      ]
    },
    {
      "cell_type": "code",
      "execution_count": null,
      "metadata": {
        "colab": {
          "base_uri": "https://localhost:8080/",
          "height": 206
        },
        "id": "zPN2tGioUAOI",
        "outputId": "dda886ba-7c17-45b7-dd18-d48150b52e72"
      },
      "outputs": [
        {
          "data": {
            "text/html": [
              "\n",
              "  <div id=\"df-1d1f3ca0-d99f-4845-bca1-d8969a45e245\">\n",
              "    <div class=\"colab-df-container\">\n",
              "      <div>\n",
              "<style scoped>\n",
              "    .dataframe tbody tr th:only-of-type {\n",
              "        vertical-align: middle;\n",
              "    }\n",
              "\n",
              "    .dataframe tbody tr th {\n",
              "        vertical-align: top;\n",
              "    }\n",
              "\n",
              "    .dataframe thead th {\n",
              "        text-align: right;\n",
              "    }\n",
              "</style>\n",
              "<table border=\"1\" class=\"dataframe\">\n",
              "  <thead>\n",
              "    <tr style=\"text-align: right;\">\n",
              "      <th></th>\n",
              "      <th>label</th>\n",
              "      <th>title</th>\n",
              "      <th>text</th>\n",
              "    </tr>\n",
              "  </thead>\n",
              "  <tbody>\n",
              "    <tr>\n",
              "      <th>0</th>\n",
              "      <td>3</td>\n",
              "      <td>more like funchuck</td>\n",
              "      <td>Gave this to my dad for a gag gift after direc...</td>\n",
              "    </tr>\n",
              "    <tr>\n",
              "      <th>1</th>\n",
              "      <td>5</td>\n",
              "      <td>Inspiring</td>\n",
              "      <td>I hope a lot of people hear this cd. We need m...</td>\n",
              "    </tr>\n",
              "    <tr>\n",
              "      <th>2</th>\n",
              "      <td>5</td>\n",
              "      <td>The best soundtrack ever to anything.</td>\n",
              "      <td>I'm reading a lot of reviews saying that this ...</td>\n",
              "    </tr>\n",
              "    <tr>\n",
              "      <th>3</th>\n",
              "      <td>4</td>\n",
              "      <td>Chrono Cross OST</td>\n",
              "      <td>The music of Yasunori Misuda is without questi...</td>\n",
              "    </tr>\n",
              "    <tr>\n",
              "      <th>4</th>\n",
              "      <td>5</td>\n",
              "      <td>Too good to be true</td>\n",
              "      <td>Probably the greatest soundtrack in history! U...</td>\n",
              "    </tr>\n",
              "  </tbody>\n",
              "</table>\n",
              "</div>\n",
              "      <button class=\"colab-df-convert\" onclick=\"convertToInteractive('df-1d1f3ca0-d99f-4845-bca1-d8969a45e245')\"\n",
              "              title=\"Convert this dataframe to an interactive table.\"\n",
              "              style=\"display:none;\">\n",
              "        \n",
              "  <svg xmlns=\"http://www.w3.org/2000/svg\" height=\"24px\"viewBox=\"0 0 24 24\"\n",
              "       width=\"24px\">\n",
              "    <path d=\"M0 0h24v24H0V0z\" fill=\"none\"/>\n",
              "    <path d=\"M18.56 5.44l.94 2.06.94-2.06 2.06-.94-2.06-.94-.94-2.06-.94 2.06-2.06.94zm-11 1L8.5 8.5l.94-2.06 2.06-.94-2.06-.94L8.5 2.5l-.94 2.06-2.06.94zm10 10l.94 2.06.94-2.06 2.06-.94-2.06-.94-.94-2.06-.94 2.06-2.06.94z\"/><path d=\"M17.41 7.96l-1.37-1.37c-.4-.4-.92-.59-1.43-.59-.52 0-1.04.2-1.43.59L10.3 9.45l-7.72 7.72c-.78.78-.78 2.05 0 2.83L4 21.41c.39.39.9.59 1.41.59.51 0 1.02-.2 1.41-.59l7.78-7.78 2.81-2.81c.8-.78.8-2.07 0-2.86zM5.41 20L4 18.59l7.72-7.72 1.47 1.35L5.41 20z\"/>\n",
              "  </svg>\n",
              "      </button>\n",
              "      \n",
              "  <style>\n",
              "    .colab-df-container {\n",
              "      display:flex;\n",
              "      flex-wrap:wrap;\n",
              "      gap: 12px;\n",
              "    }\n",
              "\n",
              "    .colab-df-convert {\n",
              "      background-color: #E8F0FE;\n",
              "      border: none;\n",
              "      border-radius: 50%;\n",
              "      cursor: pointer;\n",
              "      display: none;\n",
              "      fill: #1967D2;\n",
              "      height: 32px;\n",
              "      padding: 0 0 0 0;\n",
              "      width: 32px;\n",
              "    }\n",
              "\n",
              "    .colab-df-convert:hover {\n",
              "      background-color: #E2EBFA;\n",
              "      box-shadow: 0px 1px 2px rgba(60, 64, 67, 0.3), 0px 1px 3px 1px rgba(60, 64, 67, 0.15);\n",
              "      fill: #174EA6;\n",
              "    }\n",
              "\n",
              "    [theme=dark] .colab-df-convert {\n",
              "      background-color: #3B4455;\n",
              "      fill: #D2E3FC;\n",
              "    }\n",
              "\n",
              "    [theme=dark] .colab-df-convert:hover {\n",
              "      background-color: #434B5C;\n",
              "      box-shadow: 0px 1px 3px 1px rgba(0, 0, 0, 0.15);\n",
              "      filter: drop-shadow(0px 1px 2px rgba(0, 0, 0, 0.3));\n",
              "      fill: #FFFFFF;\n",
              "    }\n",
              "  </style>\n",
              "\n",
              "      <script>\n",
              "        const buttonEl =\n",
              "          document.querySelector('#df-1d1f3ca0-d99f-4845-bca1-d8969a45e245 button.colab-df-convert');\n",
              "        buttonEl.style.display =\n",
              "          google.colab.kernel.accessAllowed ? 'block' : 'none';\n",
              "\n",
              "        async function convertToInteractive(key) {\n",
              "          const element = document.querySelector('#df-1d1f3ca0-d99f-4845-bca1-d8969a45e245');\n",
              "          const dataTable =\n",
              "            await google.colab.kernel.invokeFunction('convertToInteractive',\n",
              "                                                     [key], {});\n",
              "          if (!dataTable) return;\n",
              "\n",
              "          const docLinkHtml = 'Like what you see? Visit the ' +\n",
              "            '<a target=\"_blank\" href=https://colab.research.google.com/notebooks/data_table.ipynb>data table notebook</a>'\n",
              "            + ' to learn more about interactive tables.';\n",
              "          element.innerHTML = '';\n",
              "          dataTable['output_type'] = 'display_data';\n",
              "          await google.colab.output.renderOutput(dataTable, element);\n",
              "          const docLink = document.createElement('div');\n",
              "          docLink.innerHTML = docLinkHtml;\n",
              "          element.appendChild(docLink);\n",
              "        }\n",
              "      </script>\n",
              "    </div>\n",
              "  </div>\n",
              "  "
            ],
            "text/plain": [
              "   label  ...                                               text\n",
              "0      3  ...  Gave this to my dad for a gag gift after direc...\n",
              "1      5  ...  I hope a lot of people hear this cd. We need m...\n",
              "2      5  ...  I'm reading a lot of reviews saying that this ...\n",
              "3      4  ...  The music of Yasunori Misuda is without questi...\n",
              "4      5  ...  Probably the greatest soundtrack in history! U...\n",
              "\n",
              "[5 rows x 3 columns]"
            ]
          },
          "execution_count": 6,
          "metadata": {},
          "output_type": "execute_result"
        }
      ],
      "source": [
        "train.head()"
      ]
    },
    {
      "cell_type": "code",
      "execution_count": null,
      "metadata": {
        "id": "Ri3xZRa-vxYa"
      },
      "outputs": [],
      "source": [
        "train = train.sample(frac=0.3, random_state=42, axis=0)\n",
        "test = test.sample(frac=0.3, random_state=42, axis=0)"
      ]
    },
    {
      "cell_type": "code",
      "execution_count": null,
      "metadata": {
        "colab": {
          "base_uri": "https://localhost:8080/"
        },
        "id": "LFoUHf03wWtQ",
        "outputId": "6aec35c8-c769-4da4-cbcf-89fcf74faf28"
      },
      "outputs": [
        {
          "name": "stdout",
          "output_type": "stream",
          "text": [
            "Dimensione train set: (900000, 3)\n",
            "Dimensione test set: (195000, 3)\n"
          ]
        }
      ],
      "source": [
        "print(\"Dimensione train set:\", train.shape)\n",
        "print(\"Dimensione test set:\", test.shape)"
      ]
    },
    {
      "cell_type": "markdown",
      "metadata": {
        "id": "vtl6shloZKbz"
      },
      "source": [
        "## Preprocessing Functions\n",
        "In this section we provide a series of function useful to preprocess our data."
      ]
    },
    {
      "cell_type": "code",
      "execution_count": null,
      "metadata": {
        "id": "nSrdlfdR-ZCB"
      },
      "outputs": [],
      "source": [
        "STOPWORDS = set(stopwords.words('english'))\n",
        "\n",
        "def remove_stopwords(text):\n",
        "    return ' '.join([word for word in text.split() if word not in STOPWORDS])\n",
        "\n",
        "PUNCTUATIONS = string.punctuation.replace('#','')\n",
        "def remove_punctuation(text):\n",
        "    trans = str.maketrans(dict.fromkeys(PUNCTUATIONS, ' '))\n",
        "    return text.translate(trans)\n",
        "\n",
        "def remove_whitespaces(text):\n",
        "    return \" \".join(text.split())\n",
        "\n",
        "def remove_freqwords(text, freqwords):\n",
        "    return \" \".join([word for word in str(text).split() if word not in freqwords])\n",
        "\n",
        "def remove_rarewords(text, rarewords):\n",
        "    return \" \".join([word for word in str(text).split() if word not in rarewords])"
      ]
    },
    {
      "cell_type": "markdown",
      "metadata": {
        "id": "MqTvRaOccdlp"
      },
      "source": [
        "### Conversion Emoticons to Word\n",
        "We decide to classify a series of *emoticons* as `good` or `bad` and replace the corresponding word in the text."
      ]
    },
    {
      "cell_type": "code",
      "execution_count": null,
      "metadata": {
        "id": "xjd1BjZHcajD"
      },
      "outputs": [],
      "source": [
        "EMOTICONS = {\n",
        "    u\":‑\\)\":\"Happy face or smiley\",\n",
        "    u\":\\)\":\"Happy face or smiley\",\n",
        "    u\":-\\]\":\"Happy face or smiley\",\n",
        "    u\":\\]\":\"Happy face or smiley\",\n",
        "    u\":-3\":\"Happy face smiley\",\n",
        "    u\":3\":\"Happy face smiley\",\n",
        "    u\":->\":\"Happy face smiley\",\n",
        "    u\":>\":\"Happy face smiley\",\n",
        "    u\"8-\\)\":\"Happy face smiley\",\n",
        "    u\":o\\)\":\"Happy face smiley\",\n",
        "    u\":-\\}\":\"Happy face smiley\",\n",
        "    u\":\\}\":\"Happy face smiley\",\n",
        "    u\":-\\)\":\"Happy face smiley\",\n",
        "    u\":c\\)\":\"Happy face smiley\",\n",
        "    u\":\\^\\)\":\"Happy face smiley\",\n",
        "    u\"=\\]\":\"Happy face smiley\",\n",
        "    u\"=\\)\":\"Happy face smiley\",\n",
        "    u\":‑D\":\"Laughing, big grin or laugh with glasses\",\n",
        "    u\":D\":\"Laughing, big grin or laugh with glasses\",\n",
        "    u\"8‑D\":\"Laughing, big grin or laugh with glasses\",\n",
        "    u\"8D\":\"Laughing, big grin or laugh with glasses\",\n",
        "    u\"X‑D\":\"Laughing, big grin or laugh with glasses\",\n",
        "    u\"XD\":\"Laughing, big grin or laugh with glasses\",\n",
        "    u\"=D\":\"Laughing, big grin or laugh with glasses\",\n",
        "    u\"=3\":\"Laughing, big grin or laugh with glasses\",\n",
        "    u\"B\\^D\":\"Laughing, big grin or laugh with glasses\",\n",
        "    u\":-\\)\\)\":\"Very happy\",\n",
        "    u\":‑\\(\":\"Frown, sad, andry or pouting\",\n",
        "    u\":-\\(\":\"Frown, sad, andry or pouting\",\n",
        "    u\":\\(\":\"Frown, sad, andry or pouting\",\n",
        "    u\":‑c\":\"Frown, sad, andry or pouting\",\n",
        "    u\":c\":\"Frown, sad, andry or pouting\",\n",
        "    u\":‑<\":\"Frown, sad, andry or pouting\",\n",
        "    u\":<\":\"Frown, sad, andry or pouting\",\n",
        "    u\":‑\\[\":\"Frown, sad, andry or pouting\",\n",
        "    u\":\\[\":\"Frown, sad, andry or pouting\",\n",
        "    u\":-\\|\\|\":\"Frown, sad, andry or pouting\",\n",
        "    u\">:\\[\":\"Frown, sad, andry or pouting\",\n",
        "    u\":\\{\":\"Frown, sad, andry or pouting\",\n",
        "    u\":@\":\"Frown, sad, andry or pouting\",\n",
        "    u\">:\\(\":\"Frown, sad, andry or pouting\",\n",
        "    u\":'‑\\(\":\"Crying\",\n",
        "    u\":'\\(\":\"Crying\",\n",
        "    u\":'‑\\)\":\"Tears of happiness\",\n",
        "    u\":'\\)\":\"Tears of happiness\",\n",
        "    u\"D‑':\":\"Horror\",\n",
        "    u\"D:<\":\"Disgust\",\n",
        "    u\"D:\":\"Sadness\",\n",
        "    u\"D8\":\"Great dismay\",\n",
        "    u\"D;\":\"Great dismay\",\n",
        "    u\"D=\":\"Great dismay\",\n",
        "    u\"DX\":\"Great dismay\",\n",
        "    u\":‑O\":\"Surprise\",\n",
        "    u\":O\":\"Surprise\",\n",
        "    u\":‑o\":\"Surprise\",\n",
        "    u\":o\":\"Surprise\",\n",
        "    u\":-0\":\"Shock\",\n",
        "    u\"8‑0\":\"Yawn\",\n",
        "    u\">:O\":\"Yawn\",\n",
        "    u\":-\\*\":\"Kiss\",\n",
        "    u\":\\*\":\"Kiss\",\n",
        "    u\":X\":\"Kiss\",\n",
        "    u\";‑\\)\":\"Wink or smirk\",\n",
        "    u\";\\)\":\"Wink or smirk\",\n",
        "    u\"\\*-\\)\":\"Wink or smirk\",\n",
        "    u\"\\*\\)\":\"Wink or smirk\",\n",
        "    u\";‑\\]\":\"Wink or smirk\",\n",
        "    u\";\\]\":\"Wink or smirk\",\n",
        "    u\";\\^\\)\":\"Wink or smirk\",\n",
        "    u\":‑,\":\"Wink or smirk\",\n",
        "    u\";D\":\"Wink or smirk\",\n",
        "    u\":‑P\":\"Tongue sticking out, cheeky, playful or blowing a raspberry\",\n",
        "    u\":P\":\"Tongue sticking out, cheeky, playful or blowing a raspberry\",\n",
        "    u\"X‑P\":\"Tongue sticking out, cheeky, playful or blowing a raspberry\",\n",
        "    u\"XP\":\"Tongue sticking out, cheeky, playful or blowing a raspberry\",\n",
        "    u\":‑Þ\":\"Tongue sticking out, cheeky, playful or blowing a raspberry\",\n",
        "    u\":Þ\":\"Tongue sticking out, cheeky, playful or blowing a raspberry\",\n",
        "    u\":b\":\"Tongue sticking out, cheeky, playful or blowing a raspberry\",\n",
        "    u\"d:\":\"Tongue sticking out, cheeky, playful or blowing a raspberry\",\n",
        "    u\"=p\":\"Tongue sticking out, cheeky, playful or blowing a raspberry\",\n",
        "    u\">:P\":\"Tongue sticking out, cheeky, playful or blowing a raspberry\",\n",
        "    u\":‑/\":\"Skeptical, annoyed, undecided, uneasy or hesitant\",\n",
        "    u\":/\":\"Skeptical, annoyed, undecided, uneasy or hesitant\",\n",
        "    u\":-[.]\":\"Skeptical, annoyed, undecided, uneasy or hesitant\",\n",
        "    u\">:/\":\"Skeptical, annoyed, undecided, uneasy or hesitant\",\n",
        "    u\"=/\":\"Skeptical, annoyed, undecided, uneasy or hesitant\",\n",
        "    u\":L\":\"Skeptical, annoyed, undecided, uneasy or hesitant\",\n",
        "    u\"=L\":\"Skeptical, annoyed, undecided, uneasy or hesitant\",\n",
        "    u\":S\":\"Skeptical, annoyed, undecided, uneasy or hesitant\",\n",
        "    u\":‑\\|\":\"Straight face\",\n",
        "    u\":\\|\":\"Straight face\",\n",
        "    u\":$\":\"Embarrassed or blushing\",\n",
        "    u\":‑x\":\"Sealed lips or wearing braces or tongue-tied\",\n",
        "    u\":x\":\"Sealed lips or wearing braces or tongue-tied\",\n",
        "    u\":‑#\":\"Sealed lips or wearing braces or tongue-tied\",\n",
        "    u\":#\":\"Sealed lips or wearing braces or tongue-tied\",\n",
        "    u\":‑&\":\"Sealed lips or wearing braces or tongue-tied\",\n",
        "    u\":&\":\"Sealed lips or wearing braces or tongue-tied\",\n",
        "    u\"O:‑\\)\":\"Angel, saint or innocent\",\n",
        "    u\"<:‑\\|\":\"Dump\",\n",
        "    u\"\\(T_T\\) \\(;_;\\)\":\"Sad or Crying\",\n",
        "    u\"\\(;_;\":\"Sad of Crying\",\n",
        "    u\"\\(;_:\\)\":\"Sad or Crying\",\n",
        "    u\"\\(;O;\\)\":\"Sad or Crying\",\n",
        "    u\"\\(:_;\\)\":\"Sad or Crying\",\n",
        "    u\"\\(ToT\\)\":\"Sad or Crying\",\n",
        "    u\";_;\":\"Sad or Crying\",\n",
        "    u\";-;\":\"Sad or Crying\",\n",
        "    u\";n;\":\"Sad or Crying\",\n",
        "    u\"Q\\.Q\":\"Sad or Crying\",\n",
        "    u\"T\\.T\":\"Sad or Crying\",\n",
        "    u\"QQ\":\"Sad or Crying\",\n",
        "    u\"Q_Q\":\"Sad or Crying\",\n",
        "    u\"\\(-\\.-\\)\":\"Shame\",\n",
        "    u\"\\(-_-\\)\":\"Shame\",\n",
        "    u\"\\(?_?\\)\":\"Confusion\",\n",
        "    u\":O o_O\":\"Surprised\",\n",
        "    u\"o_0\":\"Surprised\",\n",
        "    u\"o\\.O\":\"Surpised\"\n",
        "}"
      ]
    },
    {
      "cell_type": "code",
      "execution_count": null,
      "metadata": {
        "id": "CKFPsFjCdHyd"
      },
      "outputs": [],
      "source": [
        "pos_emot = ['Happy face or smiley', 'Happy face smiley', 'Laughing, big grin or laugh with glasses', \n",
        "       'Very happy', 'Tears of happiness', 'Suprise', 'Kiss','Shock', 'Wink or smirk',\n",
        "       'Tongue sticking out', 'cheeky', 'playful or blowing a raspberry','Angel', \n",
        "       'saint or innocent', 'Baby', 'Sleeping', 'Wink', 'Confused','Ultraman', \n",
        "       'Joyful', 'Normal Laugh', 'Waving', 'Excited', 'Amazed','Laughing,Cheerful',\n",
        "       'Headphones','Listening to music','Eyeglasses', 'Happy', 'Surprised',\n",
        "       \"Tongue sticking out, cheeky, playful or blowing a raspberry\"]\n",
        "neg_emot = ['Frown, sad, andry or pouting', 'Crying', 'Horror', 'Disgust', 'Sadness',\n",
        "       'Yawn','Grat dismay', 'Skeptical, annoyed, undecided, uneasy or hesitant',\n",
        "       'Straight face','Sealed lips or wearing braces or tongue-tied','Being sick',\n",
        "       'Dump', 'Troubled', 'Nervous or Embarrassed or Troubled or Shy or Sweat drop', \n",
        "       'Sad of Crying', 'Shame', 'Confusion', 'Worried']"
      ]
    },
    {
      "cell_type": "code",
      "execution_count": null,
      "metadata": {
        "id": "mc_2nXG2dM24"
      },
      "outputs": [],
      "source": [
        "def convert_emoticons(text):\n",
        "  for emot in EMOTICONS:\n",
        "    if EMOTICONS[emot] in pos_emot:\n",
        "      text = re.sub(u'('+emot+')', 'good', text)\n",
        "    else:\n",
        "      text = re.sub(u'('+emot+')', 'bad', text)\n",
        "  return text"
      ]
    },
    {
      "cell_type": "markdown",
      "metadata": {
        "id": "HPM1zdVzdu-Y"
      },
      "source": [
        "### Conversion Emoji to Word and Remotion of Neutrals\n",
        "We decide to classify a series of *emoji* as `good` or `bad` and replace the corresponding word in the text."
      ]
    },
    {
      "cell_type": "code",
      "execution_count": null,
      "metadata": {
        "id": "a_pULjDVdxSU"
      },
      "outputs": [],
      "source": [
        "pos_emoji = ['\\U0001F601', '\\U0001F602', '\\U0001F603', '\\U0001F604',\n",
        "             '\\U0001F605', '\\U0001F606', '\\U0001F609', '\\U0001F60A',\n",
        "             '\\U0001F60B', '\\U0001F60C', '\\U0001F60D', '\\U0001F60F',\n",
        "             '\\U0001F618', '\\U0001F61A', '\\U0001F61C', '\\U0001F61D',\n",
        "             '\\U0001F64C', '\\U0001F600', '\\U0001F607', '\\U0001F60E',\n",
        "             '\\U0001F525', '\\U0001F44D', '\\U0001F4AA', '\\U0001F4AF']\n",
        "\n",
        "neg_emoji = ['\\U0001F612', '\\U0001F613', '\\U0001F614', '\\U0001F616',\n",
        "             '\\U0001F61E', '\\U0001F620', '\\U0001F621', '\\U0001F622',\n",
        "             '\\U0001F623', '\\U0001F624', '\\U0001F625', '\\U0001F628',\n",
        "             '\\U0001F629', '\\U0001F62A', '\\U0001F62B', '\\U0001F62D',\n",
        "             '\\U0001F630', '\\U0001F631', '\\U0001F632', '\\U0001F633',\n",
        "             '\\U0001F635', '\\U0001F637', '\\U0001F645', '\\U0001F610',\n",
        "             '\\U0001F611', '\\U0001F615', '\\U0001F61F', '\\U0001F626',\n",
        "             '\\U0001F627', '\\U0001F4A9', '\\U0001F44E']"
      ]
    },
    {
      "cell_type": "code",
      "execution_count": null,
      "metadata": {
        "id": "8S2H7AVYeGXp"
      },
      "outputs": [],
      "source": [
        "def convert_emoji(text):\n",
        "    for emot in pos_emoji:\n",
        "        text = re.sub(r'('+emot+')', 'good', text)\n",
        "    for emot in neg_emoji:\n",
        "      text = re.sub(r'('+emot+')', 'bad', text)\n",
        "    return text"
      ]
    },
    {
      "cell_type": "code",
      "execution_count": null,
      "metadata": {
        "id": "FgwL1Bn0cBuE"
      },
      "outputs": [],
      "source": [
        "def remove_emoji(text):\n",
        "    emoji_pattern = re.compile(\"[\"\n",
        "                               u\"\\U0001F600-\\U0001F64F\"  # emoticons\n",
        "                               u\"\\U0001F300-\\U0001F5FF\"  # symbols & pictographs\n",
        "                               u\"\\U0001F680-\\U0001F6FF\"  # transport & map symbols\n",
        "                               u\"\\U0001F1E0-\\U0001F1FF\"  # flags (iOS)\n",
        "                               u\"\\U00002500-\\U00002BEF\"  # chinese char\n",
        "                               u\"\\U00002702-\\U000027B0\"\n",
        "                               u\"\\U00002702-\\U000027B0\"\n",
        "                               u\"\\U000024C2-\\U0001F251\"\n",
        "                               u\"\\U0001f926-\\U0001f937\"\n",
        "                               u\"\\U00010000-\\U0010ffff\"\n",
        "                               u\"\\u2640-\\u2642\"\n",
        "                               u\"\\u2600-\\u2B55\"\n",
        "                               u\"\\u200d\"\n",
        "                               u\"\\u23cf\"\n",
        "                               u\"\\u23e9\"\n",
        "                               u\"\\u231a\"\n",
        "                               u\"\\ufe0f\"  # dingbats\n",
        "                               u\"\\u3030\"\n",
        "                               \"]+\", flags=re.UNICODE)\n",
        "    return emoji_pattern.sub(r'', text)"
      ]
    },
    {
      "cell_type": "markdown",
      "metadata": {
        "id": "tRvnEjbxgay3"
      },
      "source": [
        "### Decontraction of Words\n",
        "Expansion of colloquial/slang expressions (e.g. '*imo*' corresponds to '*in my opinion*') and expansion of contractions (e.g. '*won't*' corresponds to '*will not*')."
      ]
    },
    {
      "cell_type": "code",
      "execution_count": null,
      "metadata": {
        "id": "po-E5Vjigd90"
      },
      "outputs": [],
      "source": [
        "slangs_str = \"\"\"\n",
        "AFAIK=As Far As I Know\n",
        "AFK=Away From Keyboard\n",
        "ASAP=As Soon As Possible\n",
        "ATK=At The Keyboard\n",
        "ATM=At The Moment\n",
        "A3=Anytime, Anywhere, Anyplace\n",
        "BAK=Back At Keyboard\n",
        "BBL=Be Back Later\n",
        "BBS=Be Back Soon\n",
        "BFN=Bye For Now\n",
        "B4N=Bye For Now\n",
        "BRB=Be Right Back\n",
        "BRT=Be Right There\n",
        "BTW=By The Way\n",
        "B4=Before\n",
        "B4N=Bye For Now\n",
        "CU=See You\n",
        "CUL8R=See You Later\n",
        "CYA=See You\n",
        "FAQ=Frequently Asked Questions\n",
        "FC=Fingers Crossed\n",
        "FWIW=For What It's Worth\n",
        "FYI=For Your Information\n",
        "GAL=Get A Life\n",
        "GG=Good Game\n",
        "GN=Good Night\n",
        "GMTA=Great Minds Think Alike\n",
        "GR8=Great!\n",
        "G9=Genius\n",
        "IC=I See\n",
        "ICQ=I Seek you\n",
        "ILU=ILU: I Love You\n",
        "IMHO=In My Honest Opinion\n",
        "IMO=In My Opinion\n",
        "IOW=In Other Words\n",
        "IRL=In Real Life\n",
        "KISS=Keep It Simple, Stupid\n",
        "LDR=Long Distance Relationship\n",
        "LMAO=Laugh My Aaa Off\n",
        "LOL=Laughing Out Loud\n",
        "LTNS=Long Time No See\n",
        "L8R=Later\n",
        "MTE=My Thoughts Exactly\n",
        "M8=Mate\n",
        "NRN=No Reply Necessary\n",
        "OIC=Oh I See\n",
        "PITA=Pain In The Ass\n",
        "PRT=Party\n",
        "PRW=Parents Are Watching\n",
        "ROFL=Rolling On The Floor Laughing\n",
        "ROFLOL=Rolling On The Floor Laughing Out Loud\n",
        "ROTFLMAO=Rolling On The Floor Laughing My Ass Off\n",
        "SK8=Skate\n",
        "STATS=Your sex and age\n",
        "ASL=Age Sex Location\n",
        "THX=Thank You\n",
        "TTFN=Ta-Ta For Now!\n",
        "TTYL=Talk To You Later\n",
        "U=You\n",
        "U2=You Too\n",
        "U4E=Yours For Ever\n",
        "WB=Welcome Back\n",
        "WTF=What The Fuck\n",
        "WTG=Way To Go!\n",
        "WUF=Where Are You From?\n",
        "W8=Wait\n",
        "\"\"\"\n",
        "# Built dictionary\n",
        "slangs_map_dict = {}\n",
        "slangs_list = []\n",
        "for line in slangs_str.split(\"\\n\"):\n",
        "    if line != \"\":\n",
        "        cw = line.split(\"=\")[0]\n",
        "        cw_expanded = line.split(\"=\")[1]\n",
        "        slangs_list.append(cw)\n",
        "        slangs_map_dict[cw] = cw_expanded\n",
        "slangs_list = set(slangs_list)"
      ]
    },
    {
      "cell_type": "code",
      "execution_count": null,
      "metadata": {
        "id": "_gAuILTCg0Xv"
      },
      "outputs": [],
      "source": [
        "def slang_conversion(text):\n",
        "  new_text = []\n",
        "  for w in text.split():\n",
        "      if w.upper() in slangs_list:\n",
        "          new_text.append(slangs_map_dict[w.upper()].lower())\n",
        "      else:\n",
        "          new_text.append(w)\n",
        "  return \" \".join(new_text)\n"
      ]
    },
    {
      "cell_type": "code",
      "execution_count": null,
      "metadata": {
        "id": "oOQSTojww-ij"
      },
      "outputs": [],
      "source": [
        "def decontracted(phrase):\n",
        "  # specific\n",
        "  phrase = re.sub(r\"won\\'t\", \"will not\", phrase)\n",
        "  phrase = re.sub(r\"can\\'t\", \"can not\", phrase)\n",
        "  phrase = re.sub(r\"let\\'s\", \"let us\", phrase)\n",
        "  phrase = re.sub(r\"\\'cause\", \"because\", phrase)\n",
        "  phrase = re.sub(r\"shan\\'t\", \"shall not\", phrase)\n",
        "  phrase = re.sub(r\"o\\'clock\", \"of the clock\", phrase)\n",
        "\n",
        "  # general\n",
        "  phrase = re.sub(r\"n\\'t\", \" not\", phrase)\n",
        "  phrase = re.sub(r\"\\'re\", \" are\", phrase)\n",
        "  phrase = re.sub(r\"\\'s\", \" is\", phrase)\n",
        "  phrase = re.sub(r\"\\'d\", \" would\", phrase)\n",
        "  phrase = re.sub(r\"\\'ll\", \" will\", phrase)\n",
        "  phrase = re.sub(r\"\\'t\", \" not\", phrase)\n",
        "  phrase = re.sub(r\"\\'ve\", \" have\", phrase)\n",
        "  phrase = re.sub(r\"\\'m\", \" am\", phrase)\n",
        "  return phrase"
      ]
    },
    {
      "cell_type": "code",
      "execution_count": null,
      "metadata": {
        "id": "S24vQ7Uw62Mw"
      },
      "outputs": [],
      "source": [
        "def pre_processing(data):\n",
        "\n",
        "  # Add Boolean Column\n",
        "  data[\"positive\"] = data.label > 3\n",
        "  # To Lower Case\n",
        "  data['preprocessed'] = data.text.str.lower()\n",
        "  # Remove Url Link\n",
        "  data.preprocessed = data.preprocessed.str.replace(r'https?://\\S+|www\\.\\S+',\n",
        "                                                    '', regex=True)\n",
        "  # Convert Emoticons\n",
        "  data.preprocessed = data.preprocessed.apply(lambda text: convert_emoticons(\n",
        "      text))\n",
        "  # Convert Emoji\n",
        "  data.preprocessed = data.preprocessed.apply(lambda text: convert_emojis(\n",
        "      text))\n",
        "  # Remove Emoji\n",
        "  data.preprocessed = data.preprocessed.apply(lambda text: remove_emoji(text))\n",
        "  # Decontract Slang\n",
        "  data.preprocessed = data.preprocessed.apply(lambda text: slang_conversion(\n",
        "      text))\n",
        "  # Decontract Phrases\n",
        "  data.preprocessed = data.preprocessed.apply(lambda text: decontracted(text))\n",
        "  # Remove Numeric\n",
        "  data.preprocessed = data.preprocessed.str.replace(r'\\d+', '', regex=True)\n",
        "  # Remove Stop Words\n",
        "  data.preprocessed = data.preprocessed.apply(lambda text: remove_stopwords(\n",
        "      text))\n",
        "  # Frequent and Rare Words\n",
        "  cnt = Counter()\n",
        "  for text in data[\"preprocessed\"].values:\n",
        "    for word in text.split():\n",
        "        cnt[word] += 1\n",
        "  freqwords = set([w for (w, wc) in cnt.most_common(20)])\n",
        "  n_rarewords = 50\n",
        "  rarewords = set([w for (w, wc) in cnt.most_common()[:-n_rarewords-1:-1]])\n",
        "  data.preprocessed = data.preprocessed.apply(lambda text: remove_freqwords(\n",
        "      text, freqwords))\n",
        "  data.preprocessed = data.preprocessed.apply(lambda text: remove_rarewords(\n",
        "      text, rarewords))\n",
        "  # Remove Puntuaction\n",
        "  data.preprocessed = data.preprocessed.apply(lambda text: remove_punctuation(\n",
        "      text))\n",
        "  # Remove Blank Spaces\n",
        "  data.preprocessed = data.preprocessed.apply(lambda text: remove_whitespaces(\n",
        "      text))\n",
        "  # Remove Empty Rows\n",
        "  data = data[~data.preprocessed.str.contains(r\"^\\s*$\")]\n",
        "\n",
        "  return data"
      ]
    },
    {
      "cell_type": "markdown",
      "metadata": {
        "id": "Gpwhdwr36xui"
      },
      "source": [
        "### Application of preprocessing on train and test data\n"
      ]
    },
    {
      "cell_type": "code",
      "execution_count": null,
      "metadata": {
        "id": "LmRzNl3b8TAZ"
      },
      "outputs": [],
      "source": [
        "train = pre_processing(train)\n",
        "test = pre_processing(test)"
      ]
    },
    {
      "cell_type": "code",
      "execution_count": null,
      "metadata": {
        "colab": {
          "base_uri": "https://localhost:8080/"
        },
        "id": "md91TGXknQQV",
        "outputId": "4e30e7a2-dff1-409e-c475-96bfa99e1645"
      },
      "outputs": [
        {
          "data": {
            "text/plain": [
              "2945667    really give three half stars forced round off ...\n",
              "2352586    mmmmmmm love balm smells divine makes skin vel...\n",
              "1531260    pitch black plays perfectly reason chronicles ...\n",
              "941910     currently slim fast diet found better expected...\n",
              "2582125    much writing reviews brief rack best market wh...\n",
              "Name: preprocessed, dtype: object"
            ]
          },
          "execution_count": 21,
          "metadata": {},
          "output_type": "execute_result"
        }
      ],
      "source": [
        "train.preprocessed.head()"
      ]
    },
    {
      "cell_type": "markdown",
      "metadata": {
        "id": "FPuqxZo6d5IV"
      },
      "source": [
        "### Lemmatization & Stemming"
      ]
    },
    {
      "cell_type": "code",
      "execution_count": null,
      "metadata": {
        "id": "UBee15einuMI"
      },
      "outputs": [],
      "source": [
        "# Lemmatization\n",
        "lemmatizer = WordNetLemmatizer()\n",
        "def lemmaSentence(text):\n",
        "    return \" \".join([lemmatizer.lemmatize(word) for word in text.split()])\n",
        "\n",
        "train['lemmatized'] = train.preprocessed.apply(lambda text: lemmaSentence(text))\n",
        "test['lemmatized'] = test.preprocessed.apply(lambda text: lemmaSentence(text))"
      ]
    },
    {
      "cell_type": "code",
      "execution_count": null,
      "metadata": {
        "colab": {
          "base_uri": "https://localhost:8080/",
          "height": 337
        },
        "id": "-5bIrOslnOqv",
        "outputId": "4ca63219-d4c7-4318-d359-8a1ae7c4d3ef"
      },
      "outputs": [
        {
          "data": {
            "text/html": [
              "\n",
              "  <div id=\"df-7f312008-a620-4251-a337-c28257090917\">\n",
              "    <div class=\"colab-df-container\">\n",
              "      <div>\n",
              "<style scoped>\n",
              "    .dataframe tbody tr th:only-of-type {\n",
              "        vertical-align: middle;\n",
              "    }\n",
              "\n",
              "    .dataframe tbody tr th {\n",
              "        vertical-align: top;\n",
              "    }\n",
              "\n",
              "    .dataframe thead th {\n",
              "        text-align: right;\n",
              "    }\n",
              "</style>\n",
              "<table border=\"1\" class=\"dataframe\">\n",
              "  <thead>\n",
              "    <tr style=\"text-align: right;\">\n",
              "      <th></th>\n",
              "      <th>label</th>\n",
              "      <th>title</th>\n",
              "      <th>text</th>\n",
              "      <th>positive</th>\n",
              "      <th>preprocessed</th>\n",
              "      <th>lemmatized</th>\n",
              "    </tr>\n",
              "  </thead>\n",
              "  <tbody>\n",
              "    <tr>\n",
              "      <th>2945667</th>\n",
              "      <td>4</td>\n",
              "      <td>Not Koontz's best but good read.</td>\n",
              "      <td>Really, I should give it three and a half star...</td>\n",
              "      <td>True</td>\n",
              "      <td>really give three half stars forced round off ...</td>\n",
              "      <td>really give three half star forced round off w...</td>\n",
              "    </tr>\n",
              "    <tr>\n",
              "      <th>2352586</th>\n",
              "      <td>4</td>\n",
              "      <td>addictive--except for the price</td>\n",
              "      <td>mmmmmmm. Love this balm. Smells divine and mak...</td>\n",
              "      <td>True</td>\n",
              "      <td>mmmmmmm love balm smells divine makes skin vel...</td>\n",
              "      <td>mmmmmmm love balm smell divine make skin velve...</td>\n",
              "    </tr>\n",
              "    <tr>\n",
              "      <th>1531260</th>\n",
              "      <td>2</td>\n",
              "      <td>Same problem</td>\n",
              "      <td>Pitch Black plays perfectly, but for some reas...</td>\n",
              "      <td>False</td>\n",
              "      <td>pitch black plays perfectly reason chronicles ...</td>\n",
              "      <td>pitch black play perfectly reason chronicle st...</td>\n",
              "    </tr>\n",
              "    <tr>\n",
              "      <th>941910</th>\n",
              "      <td>1</td>\n",
              "      <td>Just say no to Slim-fast low carb shakes</td>\n",
              "      <td>I am currently on a Slim-fast diet and found i...</td>\n",
              "      <td>False</td>\n",
              "      <td>currently slim fast diet found better expected...</td>\n",
              "      <td>currently slim fast diet found better expected...</td>\n",
              "    </tr>\n",
              "    <tr>\n",
              "      <th>2582125</th>\n",
              "      <td>5</td>\n",
              "      <td>Happy Thanksgiving Turkey</td>\n",
              "      <td>I'm not much on writing reviews so I will be b...</td>\n",
              "      <td>True</td>\n",
              "      <td>much writing reviews brief rack best market wh...</td>\n",
              "      <td>much writing review brief rack best market why...</td>\n",
              "    </tr>\n",
              "  </tbody>\n",
              "</table>\n",
              "</div>\n",
              "      <button class=\"colab-df-convert\" onclick=\"convertToInteractive('df-7f312008-a620-4251-a337-c28257090917')\"\n",
              "              title=\"Convert this dataframe to an interactive table.\"\n",
              "              style=\"display:none;\">\n",
              "        \n",
              "  <svg xmlns=\"http://www.w3.org/2000/svg\" height=\"24px\"viewBox=\"0 0 24 24\"\n",
              "       width=\"24px\">\n",
              "    <path d=\"M0 0h24v24H0V0z\" fill=\"none\"/>\n",
              "    <path d=\"M18.56 5.44l.94 2.06.94-2.06 2.06-.94-2.06-.94-.94-2.06-.94 2.06-2.06.94zm-11 1L8.5 8.5l.94-2.06 2.06-.94-2.06-.94L8.5 2.5l-.94 2.06-2.06.94zm10 10l.94 2.06.94-2.06 2.06-.94-2.06-.94-.94-2.06-.94 2.06-2.06.94z\"/><path d=\"M17.41 7.96l-1.37-1.37c-.4-.4-.92-.59-1.43-.59-.52 0-1.04.2-1.43.59L10.3 9.45l-7.72 7.72c-.78.78-.78 2.05 0 2.83L4 21.41c.39.39.9.59 1.41.59.51 0 1.02-.2 1.41-.59l7.78-7.78 2.81-2.81c.8-.78.8-2.07 0-2.86zM5.41 20L4 18.59l7.72-7.72 1.47 1.35L5.41 20z\"/>\n",
              "  </svg>\n",
              "      </button>\n",
              "      \n",
              "  <style>\n",
              "    .colab-df-container {\n",
              "      display:flex;\n",
              "      flex-wrap:wrap;\n",
              "      gap: 12px;\n",
              "    }\n",
              "\n",
              "    .colab-df-convert {\n",
              "      background-color: #E8F0FE;\n",
              "      border: none;\n",
              "      border-radius: 50%;\n",
              "      cursor: pointer;\n",
              "      display: none;\n",
              "      fill: #1967D2;\n",
              "      height: 32px;\n",
              "      padding: 0 0 0 0;\n",
              "      width: 32px;\n",
              "    }\n",
              "\n",
              "    .colab-df-convert:hover {\n",
              "      background-color: #E2EBFA;\n",
              "      box-shadow: 0px 1px 2px rgba(60, 64, 67, 0.3), 0px 1px 3px 1px rgba(60, 64, 67, 0.15);\n",
              "      fill: #174EA6;\n",
              "    }\n",
              "\n",
              "    [theme=dark] .colab-df-convert {\n",
              "      background-color: #3B4455;\n",
              "      fill: #D2E3FC;\n",
              "    }\n",
              "\n",
              "    [theme=dark] .colab-df-convert:hover {\n",
              "      background-color: #434B5C;\n",
              "      box-shadow: 0px 1px 3px 1px rgba(0, 0, 0, 0.15);\n",
              "      filter: drop-shadow(0px 1px 2px rgba(0, 0, 0, 0.3));\n",
              "      fill: #FFFFFF;\n",
              "    }\n",
              "  </style>\n",
              "\n",
              "      <script>\n",
              "        const buttonEl =\n",
              "          document.querySelector('#df-7f312008-a620-4251-a337-c28257090917 button.colab-df-convert');\n",
              "        buttonEl.style.display =\n",
              "          google.colab.kernel.accessAllowed ? 'block' : 'none';\n",
              "\n",
              "        async function convertToInteractive(key) {\n",
              "          const element = document.querySelector('#df-7f312008-a620-4251-a337-c28257090917');\n",
              "          const dataTable =\n",
              "            await google.colab.kernel.invokeFunction('convertToInteractive',\n",
              "                                                     [key], {});\n",
              "          if (!dataTable) return;\n",
              "\n",
              "          const docLinkHtml = 'Like what you see? Visit the ' +\n",
              "            '<a target=\"_blank\" href=https://colab.research.google.com/notebooks/data_table.ipynb>data table notebook</a>'\n",
              "            + ' to learn more about interactive tables.';\n",
              "          element.innerHTML = '';\n",
              "          dataTable['output_type'] = 'display_data';\n",
              "          await google.colab.output.renderOutput(dataTable, element);\n",
              "          const docLink = document.createElement('div');\n",
              "          docLink.innerHTML = docLinkHtml;\n",
              "          element.appendChild(docLink);\n",
              "        }\n",
              "      </script>\n",
              "    </div>\n",
              "  </div>\n",
              "  "
            ],
            "text/plain": [
              "         label  ...                                         lemmatized\n",
              "2945667      4  ...  really give three half star forced round off w...\n",
              "2352586      4  ...  mmmmmmm love balm smell divine make skin velve...\n",
              "1531260      2  ...  pitch black play perfectly reason chronicle st...\n",
              "941910       1  ...  currently slim fast diet found better expected...\n",
              "2582125      5  ...  much writing review brief rack best market why...\n",
              "\n",
              "[5 rows x 6 columns]"
            ]
          },
          "execution_count": 26,
          "metadata": {},
          "output_type": "execute_result"
        }
      ],
      "source": [
        "train.head()"
      ]
    },
    {
      "cell_type": "code",
      "execution_count": null,
      "metadata": {
        "id": "bE54x8EKx6cy"
      },
      "outputs": [],
      "source": [
        "# Stemming\n",
        "stemmer = PorterStemmer()\n",
        "def stem_words(text):\n",
        "    return \" \".join([stemmer.stem(word) for word in text.split()])\n",
        "\n",
        "train['stemmed'] = train.preprocessed.apply(lambda text: stem_words(text))\n",
        "test['stemmed'] = test.preprocessed.apply(lambda text: stem_words(text))"
      ]
    },
    {
      "cell_type": "code",
      "execution_count": null,
      "metadata": {
        "colab": {
          "base_uri": "https://localhost:8080/",
          "height": 354
        },
        "id": "g7AiVNFlyNDC",
        "outputId": "a6c70d82-29d1-42a9-f2e6-53a0ab533b5d"
      },
      "outputs": [
        {
          "data": {
            "text/html": [
              "\n",
              "  <div id=\"df-1e0e7cc0-259f-478d-8731-7b10fa016b38\">\n",
              "    <div class=\"colab-df-container\">\n",
              "      <div>\n",
              "<style scoped>\n",
              "    .dataframe tbody tr th:only-of-type {\n",
              "        vertical-align: middle;\n",
              "    }\n",
              "\n",
              "    .dataframe tbody tr th {\n",
              "        vertical-align: top;\n",
              "    }\n",
              "\n",
              "    .dataframe thead th {\n",
              "        text-align: right;\n",
              "    }\n",
              "</style>\n",
              "<table border=\"1\" class=\"dataframe\">\n",
              "  <thead>\n",
              "    <tr style=\"text-align: right;\">\n",
              "      <th></th>\n",
              "      <th>label</th>\n",
              "      <th>title</th>\n",
              "      <th>text</th>\n",
              "      <th>positive</th>\n",
              "      <th>preprocessed</th>\n",
              "      <th>lemmatized</th>\n",
              "      <th>stemmed</th>\n",
              "    </tr>\n",
              "  </thead>\n",
              "  <tbody>\n",
              "    <tr>\n",
              "      <th>2945667</th>\n",
              "      <td>4</td>\n",
              "      <td>Not Koontz's best but good read.</td>\n",
              "      <td>Really, I should give it three and a half star...</td>\n",
              "      <td>True</td>\n",
              "      <td>really give three half stars forced round off ...</td>\n",
              "      <td>really give three half star forced round off w...</td>\n",
              "      <td>realli give three half star forc round off war...</td>\n",
              "    </tr>\n",
              "    <tr>\n",
              "      <th>2352586</th>\n",
              "      <td>4</td>\n",
              "      <td>addictive--except for the price</td>\n",
              "      <td>mmmmmmm. Love this balm. Smells divine and mak...</td>\n",
              "      <td>True</td>\n",
              "      <td>mmmmmmm love balm smells divine makes skin vel...</td>\n",
              "      <td>mmmmmmm love balm smell divine make skin velve...</td>\n",
              "      <td>mmmmmmm love balm smell divin make skin velvet...</td>\n",
              "    </tr>\n",
              "    <tr>\n",
              "      <th>1531260</th>\n",
              "      <td>2</td>\n",
              "      <td>Same problem</td>\n",
              "      <td>Pitch Black plays perfectly, but for some reas...</td>\n",
              "      <td>False</td>\n",
              "      <td>pitch black plays perfectly reason chronicles ...</td>\n",
              "      <td>pitch black play perfectly reason chronicle st...</td>\n",
              "      <td>pitch black play perfectli reason chronicl sti...</td>\n",
              "    </tr>\n",
              "    <tr>\n",
              "      <th>941910</th>\n",
              "      <td>1</td>\n",
              "      <td>Just say no to Slim-fast low carb shakes</td>\n",
              "      <td>I am currently on a Slim-fast diet and found i...</td>\n",
              "      <td>False</td>\n",
              "      <td>currently slim fast diet found better expected...</td>\n",
              "      <td>currently slim fast diet found better expected...</td>\n",
              "      <td>current slim fast diet found better expect tam...</td>\n",
              "    </tr>\n",
              "    <tr>\n",
              "      <th>2582125</th>\n",
              "      <td>5</td>\n",
              "      <td>Happy Thanksgiving Turkey</td>\n",
              "      <td>I'm not much on writing reviews so I will be b...</td>\n",
              "      <td>True</td>\n",
              "      <td>much writing reviews brief rack best market wh...</td>\n",
              "      <td>much writing review brief rack best market why...</td>\n",
              "      <td>much write review brief rack best market whi t...</td>\n",
              "    </tr>\n",
              "  </tbody>\n",
              "</table>\n",
              "</div>\n",
              "      <button class=\"colab-df-convert\" onclick=\"convertToInteractive('df-1e0e7cc0-259f-478d-8731-7b10fa016b38')\"\n",
              "              title=\"Convert this dataframe to an interactive table.\"\n",
              "              style=\"display:none;\">\n",
              "        \n",
              "  <svg xmlns=\"http://www.w3.org/2000/svg\" height=\"24px\"viewBox=\"0 0 24 24\"\n",
              "       width=\"24px\">\n",
              "    <path d=\"M0 0h24v24H0V0z\" fill=\"none\"/>\n",
              "    <path d=\"M18.56 5.44l.94 2.06.94-2.06 2.06-.94-2.06-.94-.94-2.06-.94 2.06-2.06.94zm-11 1L8.5 8.5l.94-2.06 2.06-.94-2.06-.94L8.5 2.5l-.94 2.06-2.06.94zm10 10l.94 2.06.94-2.06 2.06-.94-2.06-.94-.94-2.06-.94 2.06-2.06.94z\"/><path d=\"M17.41 7.96l-1.37-1.37c-.4-.4-.92-.59-1.43-.59-.52 0-1.04.2-1.43.59L10.3 9.45l-7.72 7.72c-.78.78-.78 2.05 0 2.83L4 21.41c.39.39.9.59 1.41.59.51 0 1.02-.2 1.41-.59l7.78-7.78 2.81-2.81c.8-.78.8-2.07 0-2.86zM5.41 20L4 18.59l7.72-7.72 1.47 1.35L5.41 20z\"/>\n",
              "  </svg>\n",
              "      </button>\n",
              "      \n",
              "  <style>\n",
              "    .colab-df-container {\n",
              "      display:flex;\n",
              "      flex-wrap:wrap;\n",
              "      gap: 12px;\n",
              "    }\n",
              "\n",
              "    .colab-df-convert {\n",
              "      background-color: #E8F0FE;\n",
              "      border: none;\n",
              "      border-radius: 50%;\n",
              "      cursor: pointer;\n",
              "      display: none;\n",
              "      fill: #1967D2;\n",
              "      height: 32px;\n",
              "      padding: 0 0 0 0;\n",
              "      width: 32px;\n",
              "    }\n",
              "\n",
              "    .colab-df-convert:hover {\n",
              "      background-color: #E2EBFA;\n",
              "      box-shadow: 0px 1px 2px rgba(60, 64, 67, 0.3), 0px 1px 3px 1px rgba(60, 64, 67, 0.15);\n",
              "      fill: #174EA6;\n",
              "    }\n",
              "\n",
              "    [theme=dark] .colab-df-convert {\n",
              "      background-color: #3B4455;\n",
              "      fill: #D2E3FC;\n",
              "    }\n",
              "\n",
              "    [theme=dark] .colab-df-convert:hover {\n",
              "      background-color: #434B5C;\n",
              "      box-shadow: 0px 1px 3px 1px rgba(0, 0, 0, 0.15);\n",
              "      filter: drop-shadow(0px 1px 2px rgba(0, 0, 0, 0.3));\n",
              "      fill: #FFFFFF;\n",
              "    }\n",
              "  </style>\n",
              "\n",
              "      <script>\n",
              "        const buttonEl =\n",
              "          document.querySelector('#df-1e0e7cc0-259f-478d-8731-7b10fa016b38 button.colab-df-convert');\n",
              "        buttonEl.style.display =\n",
              "          google.colab.kernel.accessAllowed ? 'block' : 'none';\n",
              "\n",
              "        async function convertToInteractive(key) {\n",
              "          const element = document.querySelector('#df-1e0e7cc0-259f-478d-8731-7b10fa016b38');\n",
              "          const dataTable =\n",
              "            await google.colab.kernel.invokeFunction('convertToInteractive',\n",
              "                                                     [key], {});\n",
              "          if (!dataTable) return;\n",
              "\n",
              "          const docLinkHtml = 'Like what you see? Visit the ' +\n",
              "            '<a target=\"_blank\" href=https://colab.research.google.com/notebooks/data_table.ipynb>data table notebook</a>'\n",
              "            + ' to learn more about interactive tables.';\n",
              "          element.innerHTML = '';\n",
              "          dataTable['output_type'] = 'display_data';\n",
              "          await google.colab.output.renderOutput(dataTable, element);\n",
              "          const docLink = document.createElement('div');\n",
              "          docLink.innerHTML = docLinkHtml;\n",
              "          element.appendChild(docLink);\n",
              "        }\n",
              "      </script>\n",
              "    </div>\n",
              "  </div>\n",
              "  "
            ],
            "text/plain": [
              "         label  ...                                            stemmed\n",
              "2945667      4  ...  realli give three half star forc round off war...\n",
              "2352586      4  ...  mmmmmmm love balm smell divin make skin velvet...\n",
              "1531260      2  ...  pitch black play perfectli reason chronicl sti...\n",
              "941910       1  ...  current slim fast diet found better expect tam...\n",
              "2582125      5  ...  much write review brief rack best market whi t...\n",
              "\n",
              "[5 rows x 7 columns]"
            ]
          },
          "execution_count": 28,
          "metadata": {},
          "output_type": "execute_result"
        }
      ],
      "source": [
        "train.head()"
      ]
    },
    {
      "cell_type": "markdown",
      "metadata": {
        "id": "awKn2KXuvU-I"
      },
      "source": [
        "## Splitting Data into Target and Features\n"
      ]
    },
    {
      "cell_type": "code",
      "execution_count": null,
      "metadata": {
        "id": "1uDjadZbssot"
      },
      "outputs": [],
      "source": [
        "# Preprocessed text\n",
        "x_train = train.preprocessed.values\n",
        "x_test = test.preprocessed.values\n",
        "\n",
        "# Lemmatized text\n",
        "x_train_lm = train.lemmatized.values\n",
        "x_test_lm = test.lemmatized.values\n",
        "\n",
        "# Stemmed text (Porter)\n",
        "x_train_st = train.stemmed.values\n",
        "x_test_st = test.stemmed.values\n",
        "\n",
        "# Target labels\n",
        "y_train = train.positive.values\n",
        "y_test = test.positive.values"
      ]
    },
    {
      "cell_type": "code",
      "execution_count": null,
      "metadata": {
        "colab": {
          "base_uri": "https://localhost:8080/"
        },
        "id": "QRqSDOYP1nmy",
        "outputId": "41a2ac2f-dc1d-4983-b3ed-80f64f61cebd"
      },
      "outputs": [
        {
          "data": {
            "text/plain": [
              "positive\n",
              "False    539944\n",
              "True     360054\n",
              "dtype: int64"
            ]
          },
          "execution_count": 32,
          "metadata": {},
          "output_type": "execute_result"
        }
      ],
      "source": [
        "train.groupby(\"positive\").size()"
      ]
    },
    {
      "cell_type": "code",
      "execution_count": null,
      "metadata": {
        "colab": {
          "base_uri": "https://localhost:8080/"
        },
        "id": "k9hDb-zMzMoZ",
        "outputId": "798129a0-5648-49d6-9629-a7dc5833085c"
      },
      "outputs": [
        {
          "data": {
            "text/plain": [
              "positive\n",
              "False    117083\n",
              "True      77917\n",
              "dtype: int64"
            ]
          },
          "execution_count": 33,
          "metadata": {},
          "output_type": "execute_result"
        }
      ],
      "source": [
        "test.groupby(\"positive\").size()"
      ]
    },
    {
      "cell_type": "code",
      "execution_count": null,
      "metadata": {
        "colab": {
          "base_uri": "https://localhost:8080/"
        },
        "id": "2bOu9Iv91nmz",
        "outputId": "337bfe39-ad03-4cd4-8334-7a3ce6712734",
        "scrolled": true
      },
      "outputs": [
        {
          "data": {
            "text/plain": [
              "positive\n",
              "False    0.599939\n",
              "True     0.400061\n",
              "dtype: float64"
            ]
          },
          "execution_count": 34,
          "metadata": {},
          "output_type": "execute_result"
        }
      ],
      "source": [
        "train.groupby(\"positive\").size()/(train.shape[0])"
      ]
    },
    {
      "cell_type": "code",
      "execution_count": null,
      "metadata": {
        "colab": {
          "base_uri": "https://localhost:8080/"
        },
        "id": "692macW2zIXl",
        "outputId": "caa45633-dd69-4007-8998-e148575672f3"
      },
      "outputs": [
        {
          "data": {
            "text/plain": [
              "positive\n",
              "False    0.600426\n",
              "True     0.399574\n",
              "dtype: float64"
            ]
          },
          "execution_count": 35,
          "metadata": {},
          "output_type": "execute_result"
        }
      ],
      "source": [
        "test.groupby(\"positive\").size()/(test.shape[0])"
      ]
    },
    {
      "cell_type": "markdown",
      "metadata": {
        "id": "awFEJxk8tUkC"
      },
      "source": [
        "## Document Representation for Classification with AdaBooster and MLP\n",
        "We test the TF-IDF and BoW representation."
      ]
    },
    {
      "cell_type": "code",
      "execution_count": null,
      "metadata": {
        "id": "HW2AmpUUrV-G"
      },
      "outputs": [],
      "source": [
        "# Tf-Idf representation\n",
        "tfidf_vect = TfidfVectorizer(max_features = 1000)\n",
        "\n",
        "# Preprocessed data\n",
        "x_train_tfidf = tfidf_vect.fit_transform(x_train)\n",
        "x_test_tfidf = tfidf_vect.transform(x_test)\n",
        "\n",
        "# Lemmatized data\n",
        "x_train_tfidf_lm = tfidf_vect.fit_transform(x_train_lm)\n",
        "x_test_tfidf_lm = tfidf_vect.transform(x_test_lm)\n",
        "\n",
        "# Stemmed data\n",
        "x_train_tfidf_st = tfidf_vect.fit_transform(x_train_st)\n",
        "x_test_tfidf_st = tfidf_vect.transform(x_test_st)"
      ]
    },
    {
      "cell_type": "code",
      "execution_count": null,
      "metadata": {
        "id": "SyR-g8kGrkiD"
      },
      "outputs": [],
      "source": [
        "# Bow Representation\n",
        "count_vec = CountVectorizer(ngram_range=(1,1), max_features = 1000)\n",
        "\n",
        "# Preprocessed data\n",
        "x_train_bow = count_vec.fit_transform(x_train)\n",
        "x_test_bow = count_vec.transform(x_test)\n",
        "\n",
        "# Lemmatized data\n",
        "x_train_bow_lm = count_vec.fit_transform(x_train_lm)\n",
        "x_test_bow_lm = count_vec.transform(x_test_lm)\n",
        "\n",
        "# Stemmed data\n",
        "x_train_bow_st = count_vec.fit_transform(x_train_st)\n",
        "x_test_bow_st = count_vec.transform(x_test_st)"
      ]
    },
    {
      "cell_type": "markdown",
      "metadata": {
        "id": "tYZ22Aa61yyz"
      },
      "source": [
        "## Classification\n",
        "We aim to classify Amazon's rewies as positive ($label > 3$) and negative ($label \\leq 3$).\n",
        "We decice to implement a simple NN in order to achieve our task.\n",
        "We tested two different classifier in this phase: AdaBoost Classifier and MLP. We executed 6 classification for each classifier: the 3 data preoprocessing with TF-IDF and with BoW."
      ]
    },
    {
      "cell_type": "code",
      "execution_count": null,
      "metadata": {
        "id": "ZgJdpDPjHF6D"
      },
      "outputs": [],
      "source": [
        "def score_model(clf, X_train, X_test, y_train, y_test):\n",
        "  \n",
        "  train_score = clf.score(X_train, y_train) \n",
        "  test_score = clf.score(X_test, y_test)    \n",
        "\n",
        "  predictions = clf.predict(X_test)\n",
        "\n",
        "  prec = precision_score(y_test, predictions)\n",
        "  rec = recall_score(y_test, predictions)\n",
        "  f1 = f1_score(y_test, predictions) # F1\n",
        "  f2 = fbeta_score(y_test, predictions, beta=2) # F2\n",
        "  cm = confusion_matrix(y_test, predictions)\n",
        "  scores_strings = [\"Train Accuracy\", \"Test Accuracy\", \"Test Precision\",\n",
        "                    \"Test Recall\", \"Test F1\", \"Test F2\"]\n",
        "\n",
        "  scores = [train_score, test_score, prec, rec, f1, f2]\n",
        "\n",
        "  print((\"{:20s} {:.5f}\\n\"*6)[:-1].format(\n",
        "      *itertools.chain(*zip(scores_strings, scores))))\n",
        "  print(\"Classification report:\")\n",
        "  print(classification_report(y_test, predictions, digits=5))"
      ]
    },
    {
      "cell_type": "code",
      "execution_count": null,
      "metadata": {
        "id": "QJtkaLOHVtqB"
      },
      "outputs": [],
      "source": [
        "def fit_score(clf, x_train, x_test, y_train = y_train, y_test = y_test):\n",
        "  clf.fit(x_train, y_train)\n",
        "  return score_model(clf, x_train, x_test, y_train, y_test)"
      ]
    },
    {
      "cell_type": "markdown",
      "metadata": {
        "id": "BvdOVXEmHIo9"
      },
      "source": [
        "### AdaBoostClassifier TF-IDF"
      ]
    },
    {
      "cell_type": "code",
      "execution_count": null,
      "metadata": {
        "id": "gXxeOeZ4HdyC"
      },
      "outputs": [],
      "source": [
        "clf_ad= AdaBoostClassifier(n_estimators = 100, random_state=0)"
      ]
    },
    {
      "cell_type": "code",
      "execution_count": null,
      "metadata": {
        "colab": {
          "base_uri": "https://localhost:8080/"
        },
        "id": "vIKDtC3eHOCe",
        "outputId": "f8c06179-17bd-4bcb-db5d-7bcd01ca31f7"
      },
      "outputs": [
        {
          "name": "stdout",
          "output_type": "stream",
          "text": [
            "Train Accuracy       0.73130\n",
            "Test Accuracy        0.73111\n",
            "Test Precision       0.68757\n",
            "Test Recall          0.59944\n",
            "Test F1              0.64049\n",
            "Test F2              0.61521\n",
            "Classification report:\n",
            "              precision    recall  f1-score   support\n",
            "\n",
            "       False    0.75439   0.81874   0.78525    117083\n",
            "        True    0.68757   0.59944   0.64049     77916\n",
            "\n",
            "    accuracy                        0.73111    194999\n",
            "   macro avg    0.72098   0.70909   0.71287    194999\n",
            "weighted avg    0.72769   0.73111   0.72740    194999\n",
            "\n"
          ]
        }
      ],
      "source": [
        "# Classification on preprocessed data\n",
        "fit_score(clf_ad, x_train_tfidf, x_test_tfidf)"
      ]
    },
    {
      "cell_type": "code",
      "execution_count": null,
      "metadata": {
        "colab": {
          "base_uri": "https://localhost:8080/",
          "height": 379
        },
        "id": "xjIUWmEY5Znk",
        "outputId": "db0e4c93-8edd-4cb0-ca9f-99704eb963ff"
      },
      "outputs": [
        {
          "output_type": "execute_result",
          "data": {
            "text/plain": [
              "<sklearn.metrics._plot.confusion_matrix.ConfusionMatrixDisplay at 0x7f0db7c84150>"
            ]
          },
          "metadata": {},
          "execution_count": 35
        },
        {
          "output_type": "display_data",
          "data": {
            "image/png": "[encoded data removed]",
            "text/plain": [
              "<Figure size 576x396 with 2 Axes>"
            ]
          },
          "metadata": {}
        }
      ],
      "source": [
        "warnings.filterwarnings('ignore')\n",
        "plot_confusion_matrix(clf_ad, x_test_tfidf, y_test, cmap = 'BuPu')"
      ]
    },
    {
      "cell_type": "code",
      "execution_count": null,
      "metadata": {
        "colab": {
          "base_uri": "https://localhost:8080/"
        },
        "id": "_FK0JzOAHYuE",
        "outputId": "94333be2-cc1e-4fad-ad0f-7ff8df6f11c2"
      },
      "outputs": [
        {
          "name": "stdout",
          "output_type": "stream",
          "text": [
            "Train Accuracy       0.73204\n",
            "Test Accuracy        0.73122\n",
            "Test Precision       0.69314\n",
            "Test Recall          0.58736\n",
            "Test F1              0.63588\n",
            "Test F2              0.60585\n",
            "Classification report:\n",
            "              precision    recall  f1-score   support\n",
            "\n",
            "       False    0.75072   0.82695   0.78699    117083\n",
            "        True    0.69314   0.58736   0.63588     77916\n",
            "\n",
            "    accuracy                        0.73122    194999\n",
            "   macro avg    0.72193   0.70716   0.71144    194999\n",
            "weighted avg    0.72771   0.73122   0.72661    194999\n",
            "\n"
          ]
        }
      ],
      "source": [
        "# Classification on lemmatizated data\n",
        "fit_score(clf_ad, x_train_tfidf_lm, x_test_tfidf_lm)"
      ]
    },
    {
      "cell_type": "code",
      "execution_count": null,
      "metadata": {
        "colab": {
          "base_uri": "https://localhost:8080/",
          "height": 379
        },
        "id": "qer8LmZW5ece",
        "outputId": "1c726d70-77d4-4aac-b051-8845631bb88b"
      },
      "outputs": [
        {
          "output_type": "execute_result",
          "data": {
            "text/plain": [
              "<sklearn.metrics._plot.confusion_matrix.ConfusionMatrixDisplay at 0x7f0dba1f3ed0>"
            ]
          },
          "metadata": {},
          "execution_count": 36
        },
        {
          "output_type": "display_data",
          "data": {
            "image/png": "[encoded data removed]",
            "text/plain": [
              "<Figure size 576x396 with 2 Axes>"
            ]
          },
          "metadata": {}
        }
      ],
      "source": [
        "warnings.filterwarnings('ignore')\n",
        "plot_confusion_matrix(clf_ad, x_test_tfidf_lm, y_test, cmap = 'BuPu')"
      ]
    },
    {
      "cell_type": "code",
      "execution_count": null,
      "metadata": {
        "colab": {
          "base_uri": "https://localhost:8080/"
        },
        "id": "IY0UIpxrHanY",
        "outputId": "b1f1b1af-4a5a-4d13-b0ba-bd37eeb8cb19"
      },
      "outputs": [
        {
          "name": "stdout",
          "output_type": "stream",
          "text": [
            "Train Accuracy       0.73667\n",
            "Test Accuracy        0.73656\n",
            "Test Precision       0.69671\n",
            "Test Recall          0.60334\n",
            "Test F1              0.64667\n",
            "Test F2              0.61996\n",
            "Classification report:\n",
            "              precision    recall  f1-score   support\n",
            "\n",
            "       False    0.75765   0.82522   0.78999    117083\n",
            "        True    0.69671   0.60334   0.64667     77916\n",
            "\n",
            "    accuracy                        0.73656    194999\n",
            "   macro avg    0.72718   0.71428   0.71833    194999\n",
            "weighted avg    0.73330   0.73656   0.73273    194999\n",
            "\n"
          ]
        }
      ],
      "source": [
        "# Classification on stemmed data\n",
        "fit_score(clf_ad, x_train_tfidf_st, x_test_tfidf_st)"
      ]
    },
    {
      "cell_type": "code",
      "execution_count": null,
      "metadata": {
        "colab": {
          "base_uri": "https://localhost:8080/",
          "height": 379
        },
        "id": "3kOpvFrl5hSj",
        "outputId": "e721b414-7280-4476-f2c8-7a84a9b3a17e"
      },
      "outputs": [
        {
          "output_type": "execute_result",
          "data": {
            "text/plain": [
              "<sklearn.metrics._plot.confusion_matrix.ConfusionMatrixDisplay at 0x7f0db8dcbfd0>"
            ]
          },
          "metadata": {},
          "execution_count": 37
        },
        {
          "output_type": "display_data",
          "data": {
            "image/png": "[encoded data removed]",
            "text/plain": [
              "<Figure size 576x396 with 2 Axes>"
            ]
          },
          "metadata": {}
        }
      ],
      "source": [
        "warnings.filterwarnings('ignore')\n",
        "plot_confusion_matrix(clf_ad, x_test_tfidf_st, y_test, cmap = 'BuPu')"
      ]
    },
    {
      "cell_type": "markdown",
      "metadata": {
        "id": "7osk8_8hHt_T"
      },
      "source": [
        "### AdaBoostClassifier BoW"
      ]
    },
    {
      "cell_type": "code",
      "execution_count": null,
      "metadata": {
        "colab": {
          "base_uri": "https://localhost:8080/"
        },
        "id": "coJGwOseH0cE",
        "outputId": "00367888-9c9b-4142-8b60-9b3e1d28106d"
      },
      "outputs": [
        {
          "name": "stdout",
          "output_type": "stream",
          "text": [
            "Train Accuracy       0.73133\n",
            "Test Accuracy        0.73117\n",
            "Test Precision       0.68972\n",
            "Test Recall          0.59476\n",
            "Test F1              0.63873\n",
            "Test F2              0.61160\n",
            "Classification report:\n",
            "              precision    recall  f1-score   support\n",
            "\n",
            "       False    0.75296   0.82195   0.78594    117083\n",
            "        True    0.68972   0.59476   0.63873     77916\n",
            "\n",
            "    accuracy                        0.73117    194999\n",
            "   macro avg    0.72134   0.70835   0.71233    194999\n",
            "weighted avg    0.72769   0.73117   0.72712    194999\n",
            "\n"
          ]
        }
      ],
      "source": [
        "# Classification on preprocessed data\n",
        "fit_score(clf_ad, x_train_bow, x_test_bow)"
      ]
    },
    {
      "cell_type": "code",
      "execution_count": null,
      "metadata": {
        "colab": {
          "base_uri": "https://localhost:8080/",
          "height": 379
        },
        "id": "yGYcTdck6h9x",
        "outputId": "e4ad9021-010d-436c-d6fa-9f3b8dbc0d4e"
      },
      "outputs": [
        {
          "output_type": "execute_result",
          "data": {
            "text/plain": [
              "<sklearn.metrics._plot.confusion_matrix.ConfusionMatrixDisplay at 0x7f0db8a84890>"
            ]
          },
          "metadata": {},
          "execution_count": 38
        },
        {
          "output_type": "display_data",
          "data": {
            "image/png": "[encoded data removed]",
            "text/plain": [
              "<Figure size 576x396 with 2 Axes>"
            ]
          },
          "metadata": {}
        }
      ],
      "source": [
        "warnings.filterwarnings('ignore')\n",
        "plot_confusion_matrix(clf_ad, x_test_bow, y_test, cmap = 'BuPu')"
      ]
    },
    {
      "cell_type": "code",
      "execution_count": null,
      "metadata": {
        "colab": {
          "base_uri": "https://localhost:8080/"
        },
        "id": "5-hV95zlH2Jm",
        "outputId": "f00803c7-82ee-4635-81b8-669c598dc9ef"
      },
      "outputs": [
        {
          "name": "stdout",
          "output_type": "stream",
          "text": [
            "Train Accuracy       0.73242\n",
            "Test Accuracy        0.73170\n",
            "Test Precision       0.69936\n",
            "Test Recall          0.57626\n",
            "Test F1              0.63187\n",
            "Test F2              0.59729\n",
            "Classification report:\n",
            "              precision    recall  f1-score   support\n",
            "\n",
            "       False    0.74758   0.83514   0.78894    117083\n",
            "        True    0.69936   0.57626   0.63187     77916\n",
            "\n",
            "    accuracy                        0.73170    194999\n",
            "   macro avg    0.72347   0.70570   0.71040    194999\n",
            "weighted avg    0.72831   0.73170   0.72618    194999\n",
            "\n"
          ]
        }
      ],
      "source": [
        "# Classification on lemmatizated data\n",
        "fit_score(clf_ad, x_train_bow_lm, x_test_bow_lm)"
      ]
    },
    {
      "cell_type": "code",
      "execution_count": null,
      "metadata": {
        "colab": {
          "base_uri": "https://localhost:8080/",
          "height": 379
        },
        "id": "rQ6Mtu3Z6jvC",
        "outputId": "879698b2-438a-4e34-915b-78c22f3db88b"
      },
      "outputs": [
        {
          "output_type": "execute_result",
          "data": {
            "text/plain": [
              "<sklearn.metrics._plot.confusion_matrix.ConfusionMatrixDisplay at 0x7f0db8246f10>"
            ]
          },
          "metadata": {},
          "execution_count": 39
        },
        {
          "output_type": "display_data",
          "data": {
            "image/png": "[encoded data removed]",
            "text/plain": [
              "<Figure size 576x396 with 2 Axes>"
            ]
          },
          "metadata": {}
        }
      ],
      "source": [
        "warnings.filterwarnings('ignore')\n",
        "plot_confusion_matrix(clf_ad, x_test_bow_lm, y_test, cmap = 'BuPu')"
      ]
    },
    {
      "cell_type": "code",
      "execution_count": null,
      "metadata": {
        "colab": {
          "base_uri": "https://localhost:8080/",
          "height": 745
        },
        "id": "j1e4_aobH4fA",
        "outputId": "51c529ad-4444-474d-98f7-3a4b15bc4acb"
      },
      "outputs": [
        {
          "name": "stdout",
          "output_type": "stream",
          "text": [
            "Train Accuracy       0.73679\n",
            "Test Accuracy        0.73733\n",
            "Test Precision       0.69562\n",
            "Test Recall          0.60917\n",
            "Test F1              0.64953\n",
            "Test F2              0.62470\n",
            "Classification report:\n",
            "              precision    recall  f1-score   support\n",
            "\n",
            "       False    0.75978   0.82261   0.78995    117083\n",
            "        True    0.69562   0.60917   0.64953     77916\n",
            "\n",
            "    accuracy                        0.73733    194999\n",
            "   macro avg    0.72770   0.71589   0.71974    194999\n",
            "weighted avg    0.73414   0.73733   0.73384    194999\n",
            "\n"
          ]
        },
        {
          "name": "stderr",
          "output_type": "stream",
          "text": [
            "/usr/local/lib/python3.7/dist-packages/sklearn/utils/deprecation.py:87: FutureWarning:\n",
            "\n",
            "Function plot_confusion_matrix is deprecated; Function `plot_confusion_matrix` is deprecated in 1.0 and will be removed in 1.2. Use one of the class methods: ConfusionMatrixDisplay.from_predictions or ConfusionMatrixDisplay.from_estimator.\n",
            "\n"
          ]
        },
        {
          "data": {
            "text/plain": [
              "<sklearn.metrics._plot.confusion_matrix.ConfusionMatrixDisplay at 0x7f4f8c1fe290>"
            ]
          },
          "execution_count": 23,
          "metadata": {},
          "output_type": "execute_result"
        },
        {
          "data": {
            "image/png": "[encoded data removed]",
            "text/plain": [
              "<Figure size 576x396 with 2 Axes>"
            ]
          },
          "metadata": {},
          "output_type": "display_data"
        }
      ],
      "source": [
        "# Classification on stemmed data\n",
        "fit_score(clf_ad, x_train_bow_st, x_test_bow_st)"
      ]
    },
    {
      "cell_type": "code",
      "execution_count": null,
      "metadata": {
        "id": "zgQUbQKoqYT9",
        "colab": {
          "base_uri": "https://localhost:8080/",
          "height": 379
        },
        "outputId": "671001fc-2e28-472b-fada-42a8d47e9249"
      },
      "outputs": [
        {
          "output_type": "execute_result",
          "data": {
            "text/plain": [
              "<sklearn.metrics._plot.confusion_matrix.ConfusionMatrixDisplay at 0x7f0db86bbdd0>"
            ]
          },
          "metadata": {},
          "execution_count": 40
        },
        {
          "output_type": "display_data",
          "data": {
            "image/png": "[encoded data removed]",
            "text/plain": [
              "<Figure size 576x396 with 2 Axes>"
            ]
          },
          "metadata": {}
        }
      ],
      "source": [
        "warnings.filterwarnings('ignore')\n",
        "plot_confusion_matrix(clf_ad, x_test_bow_st, y_test, cmap = 'BuPu')"
      ]
    },
    {
      "cell_type": "markdown",
      "metadata": {
        "id": "tB963C0rH_2m"
      },
      "source": [
        "### Multi Layer Perceptron TF-IDF"
      ]
    },
    {
      "cell_type": "code",
      "execution_count": null,
      "metadata": {
        "id": "WYc7e6KYIK92"
      },
      "outputs": [],
      "source": [
        "clf_mlp = MLPClassifier(activation = 'relu', solver='adam',\n",
        "                        hidden_layer_sizes=(5, 2), random_state = 1)"
      ]
    },
    {
      "cell_type": "code",
      "execution_count": null,
      "metadata": {
        "colab": {
          "base_uri": "https://localhost:8080/"
        },
        "id": "I8zspV6YITcN",
        "outputId": "6a48eaf4-034c-42d9-9b91-8d0391e21a30"
      },
      "outputs": [
        {
          "output_type": "stream",
          "name": "stdout",
          "text": [
            "Train Accuracy       0.78256\n",
            "Test Accuracy        0.77834\n",
            "Test Precision       0.74142\n",
            "Test Recall          0.68371\n",
            "Test F1              0.71140\n",
            "Test F2              0.69452\n",
            "Classification report:\n",
            "              precision    recall  f1-score   support\n",
            "\n",
            "       False    0.79988   0.84132   0.82008    117083\n",
            "        True    0.74142   0.68371   0.71140     77916\n",
            "\n",
            "    accuracy                        0.77834    194999\n",
            "   macro avg    0.77065   0.76251   0.76574    194999\n",
            "weighted avg    0.77652   0.77834   0.77665    194999\n",
            "\n"
          ]
        }
      ],
      "source": [
        "# Classification on preprocessed data\n",
        "fit_score(clf_mlp, x_train_tfidf, x_test_tfidf)"
      ]
    },
    {
      "cell_type": "code",
      "execution_count": null,
      "metadata": {
        "colab": {
          "base_uri": "https://localhost:8080/",
          "height": 379
        },
        "id": "qrwObWOm6pxN",
        "outputId": "2c19f6af-f877-425d-d6c7-acadf509980c"
      },
      "outputs": [
        {
          "output_type": "execute_result",
          "data": {
            "text/plain": [
              "<sklearn.metrics._plot.confusion_matrix.ConfusionMatrixDisplay at 0x7f9913f53750>"
            ]
          },
          "metadata": {},
          "execution_count": 10
        },
        {
          "output_type": "display_data",
          "data": {
            "image/png": "[encoded data removed]",
            "text/plain": [
              "<Figure size 576x396 with 2 Axes>"
            ]
          },
          "metadata": {}
        }
      ],
      "source": [
        "warnings.filterwarnings('ignore')\n",
        "plot_confusion_matrix(clf_mlp, x_test_tfidf, y_test, cmap = 'BuPu')"
      ]
    },
    {
      "cell_type": "code",
      "execution_count": null,
      "metadata": {
        "colab": {
          "base_uri": "https://localhost:8080/"
        },
        "id": "P3HAVencIU8y",
        "outputId": "24667040-39c2-482c-b21a-38e742e7425c"
      },
      "outputs": [
        {
          "output_type": "stream",
          "name": "stdout",
          "text": [
            "Train Accuracy       0.78308\n",
            "Test Accuracy        0.77869\n",
            "Test Precision       0.74353\n",
            "Test Recall          0.68103\n",
            "Test F1              0.71091\n",
            "Test F2              0.69267\n",
            "Classification report:\n",
            "              precision    recall  f1-score   support\n",
            "\n",
            "       False    0.79898   0.84367   0.82072    117083\n",
            "        True    0.74353   0.68103   0.71091     77916\n",
            "\n",
            "    accuracy                        0.77869    194999\n",
            "   macro avg    0.77126   0.76235   0.76581    194999\n",
            "weighted avg    0.77682   0.77869   0.77684    194999\n",
            "\n"
          ]
        }
      ],
      "source": [
        "# Classification on lemmatizated data\n",
        "fit_score(clf_mlp, x_train_tfidf_lm, x_test_tfidf_lm)"
      ]
    },
    {
      "cell_type": "code",
      "execution_count": null,
      "metadata": {
        "colab": {
          "base_uri": "https://localhost:8080/",
          "height": 379
        },
        "id": "Cpswh0dR6rH_",
        "outputId": "4213f5ce-fd1d-4a00-f48c-b84e021b63b7"
      },
      "outputs": [
        {
          "output_type": "execute_result",
          "data": {
            "text/plain": [
              "<sklearn.metrics._plot.confusion_matrix.ConfusionMatrixDisplay at 0x7f0db82451d0>"
            ]
          },
          "metadata": {},
          "execution_count": 46
        },
        {
          "output_type": "display_data",
          "data": {
            "image/png": "[encoded data removed]",
            "text/plain": [
              "<Figure size 576x396 with 2 Axes>"
            ]
          },
          "metadata": {}
        }
      ],
      "source": [
        "warnings.filterwarnings('ignore')\n",
        "plot_confusion_matrix(clf_mlp, x_test_tfidf_lm, y_test, cmap = 'BuPu')"
      ]
    },
    {
      "cell_type": "code",
      "execution_count": null,
      "metadata": {
        "colab": {
          "base_uri": "https://localhost:8080/"
        },
        "id": "a3782BVYIW8r",
        "outputId": "b5d8af7f-59bb-4ea9-a96f-ee1a50712f98"
      },
      "outputs": [
        {
          "output_type": "stream",
          "name": "stdout",
          "text": [
            "Train Accuracy       0.78591\n",
            "Test Accuracy        0.78170\n",
            "Test Precision       0.74059\n",
            "Test Recall          0.69823\n",
            "Test F1              0.71878\n",
            "Test F2              0.70631\n",
            "Classification report:\n",
            "              precision    recall  f1-score   support\n",
            "\n",
            "       False    0.80654   0.83724   0.82161    117083\n",
            "        True    0.74059   0.69823   0.71878     77916\n",
            "\n",
            "    accuracy                        0.78170    194999\n",
            "   macro avg    0.77357   0.76773   0.77020    194999\n",
            "weighted avg    0.78019   0.78170   0.78052    194999\n",
            "\n"
          ]
        }
      ],
      "source": [
        "# Classification on stemmed data\n",
        "fit_score(clf_mlp, x_train_tfidf_st, x_test_tfidf_st)"
      ]
    },
    {
      "cell_type": "code",
      "execution_count": null,
      "metadata": {
        "colab": {
          "base_uri": "https://localhost:8080/",
          "height": 379
        },
        "id": "eJ6_vVoh6sqs",
        "outputId": "9de12d07-8965-445e-d856-f0eea758558a"
      },
      "outputs": [
        {
          "output_type": "execute_result",
          "data": {
            "text/plain": [
              "<sklearn.metrics._plot.confusion_matrix.ConfusionMatrixDisplay at 0x7f0dbd4f1d10>"
            ]
          },
          "metadata": {},
          "execution_count": 48
        },
        {
          "output_type": "display_data",
          "data": {
            "image/png": "[encoded data removed]",
            "text/plain": [
              "<Figure size 576x396 with 2 Axes>"
            ]
          },
          "metadata": {}
        }
      ],
      "source": [
        "warnings.filterwarnings('ignore')\n",
        "plot_confusion_matrix(clf_mlp, x_test_tfidf_st, y_test, cmap = 'BuPu')"
      ]
    },
    {
      "cell_type": "markdown",
      "metadata": {
        "id": "ufWJpkxBIwU6"
      },
      "source": [
        "### Multi Layer Perceptron BoW"
      ]
    },
    {
      "cell_type": "code",
      "execution_count": null,
      "metadata": {
        "colab": {
          "base_uri": "https://localhost:8080/"
        },
        "id": "Jl_KceSXI0d2",
        "outputId": "d6181a73-3468-45db-a7fa-f8c3cde7f128"
      },
      "outputs": [
        {
          "output_type": "stream",
          "name": "stdout",
          "text": [
            "Train Accuracy       0.78045\n",
            "Test Accuracy        0.77583\n",
            "Test Precision       0.73748\n",
            "Test Recall          0.68163\n",
            "Test F1              0.70845\n",
            "Test F2              0.69211\n",
            "Classification report:\n",
            "              precision    recall  f1-score   support\n",
            "\n",
            "       False    0.79830   0.83852   0.81792    117083\n",
            "        True    0.73748   0.68163   0.70845     77916\n",
            "\n",
            "    accuracy                        0.77583    194999\n",
            "   macro avg    0.76789   0.76008   0.76319    194999\n",
            "weighted avg    0.77399   0.77583   0.77418    194999\n",
            "\n"
          ]
        }
      ],
      "source": [
        "# Classification on preprocessed data\n",
        "fit_score(clf_mlp, x_train_bow, x_test_bow)"
      ]
    },
    {
      "cell_type": "code",
      "execution_count": null,
      "metadata": {
        "colab": {
          "base_uri": "https://localhost:8080/",
          "height": 379
        },
        "id": "zBx2hZk56ue3",
        "outputId": "5617fa7c-04c8-47ae-9b71-b5f922c4bf4b"
      },
      "outputs": [
        {
          "output_type": "execute_result",
          "data": {
            "text/plain": [
              "<sklearn.metrics._plot.confusion_matrix.ConfusionMatrixDisplay at 0x7f0db9b353d0>"
            ]
          },
          "metadata": {},
          "execution_count": 50
        },
        {
          "output_type": "display_data",
          "data": {
            "image/png": "[encoded data removed]",
            "text/plain": [
              "<Figure size 576x396 with 2 Axes>"
            ]
          },
          "metadata": {}
        }
      ],
      "source": [
        "warnings.filterwarnings('ignore')\n",
        "plot_confusion_matrix(clf_mlp, x_test_bow, y_test, cmap = 'BuPu')"
      ]
    },
    {
      "cell_type": "code",
      "execution_count": null,
      "metadata": {
        "colab": {
          "base_uri": "https://localhost:8080/"
        },
        "id": "X4MIBBr_I3zr",
        "outputId": "05108c07-f591-437d-86bd-36c59efc43d3"
      },
      "outputs": [
        {
          "output_type": "stream",
          "name": "stdout",
          "text": [
            "Train Accuracy       0.78132\n",
            "Test Accuracy        0.77631\n",
            "Test Precision       0.73772\n",
            "Test Recall          0.68298\n",
            "Test F1              0.70930\n",
            "Test F2              0.69327\n",
            "Classification report:\n",
            "              precision    recall  f1-score   support\n",
            "\n",
            "       False    0.79896   0.83841   0.81821    117083\n",
            "        True    0.73772   0.68298   0.70930     77916\n",
            "\n",
            "    accuracy                        0.77631    194999\n",
            "   macro avg    0.76834   0.76070   0.76375    194999\n",
            "weighted avg    0.77449   0.77631   0.77469    194999\n",
            "\n"
          ]
        }
      ],
      "source": [
        "# Classification on lemmatizated data\n",
        "fit_score(clf_mlp, x_train_bow_lm, x_test_bow_lm)"
      ]
    },
    {
      "cell_type": "code",
      "execution_count": null,
      "metadata": {
        "colab": {
          "base_uri": "https://localhost:8080/"
        },
        "id": "Ph9HAxIr6wNG",
        "outputId": "db8758cf-5057-46d8-8b7f-ec0b658c5406"
      },
      "outputs": [
        {
          "output_type": "execute_result",
          "data": {
            "text/plain": [
              "<sklearn.metrics._plot.confusion_matrix.ConfusionMatrixDisplay at 0x7f0db7c56a50>"
            ]
          },
          "metadata": {},
          "execution_count": 52
        },
        {
          "output_type": "display_data",
          "data": {
            "image/png": "[encoded data removed]",
            "text/plain": [
              "<Figure size 576x396 with 2 Axes>"
            ]
          },
          "metadata": {}
        }
      ],
      "source": [
        "warnings.filterwarnings('ignore')\n",
        "plot_confusion_matrix(clf_mlp, x_test_bow_lm, y_test, cmap = 'BuPu')"
      ]
    },
    {
      "cell_type": "code",
      "execution_count": null,
      "metadata": {
        "colab": {
          "base_uri": "https://localhost:8080/"
        },
        "id": "XvaX42nmI5fy",
        "outputId": "01d0cd97-a481-4007-d8cf-4344c83eb6c8"
      },
      "outputs": [
        {
          "output_type": "stream",
          "name": "stdout",
          "text": [
            "Train Accuracy       0.78444\n",
            "Test Accuracy        0.78015\n",
            "Test Precision       0.74540\n",
            "Test Recall          0.68311\n",
            "Test F1              0.71289\n",
            "Test F2              0.69472\n",
            "Classification report:\n",
            "              precision    recall  f1-score   support\n",
            "\n",
            "       False    0.80022   0.84473   0.82187    117083\n",
            "        True    0.74540   0.68311   0.71289     77916\n",
            "\n",
            "    accuracy                        0.78015    194999\n",
            "   macro avg    0.77281   0.76392   0.76738    194999\n",
            "weighted avg    0.77832   0.78015   0.77833    194999\n",
            "\n"
          ]
        }
      ],
      "source": [
        "# Classification on stemmed data\n",
        "fit_score(clf_mlp, x_train_bow_st, x_test_bow_st)"
      ]
    },
    {
      "cell_type": "code",
      "execution_count": null,
      "metadata": {
        "colab": {
          "base_uri": "https://localhost:8080/"
        },
        "id": "9vupJqEF6y3B",
        "outputId": "09baf1a4-8cf2-4ee8-c916-f49a55b98b67"
      },
      "outputs": [
        {
          "output_type": "execute_result",
          "data": {
            "text/plain": [
              "<sklearn.metrics._plot.confusion_matrix.ConfusionMatrixDisplay at 0x7f0dbd4e03d0>"
            ]
          },
          "metadata": {},
          "execution_count": 54
        },
        {
          "output_type": "display_data",
          "data": {
            "image/png": "[encoded data removed]",
            "text/plain": [
              "<Figure size 576x396 with 2 Axes>"
            ]
          },
          "metadata": {}
        }
      ],
      "source": [
        "warnings.filterwarnings('ignore')\n",
        "plot_confusion_matrix(clf_mlp, x_test_bow_st, y_test, cmap = 'BuPu')"
      ]
    },
    {
      "cell_type": "markdown",
      "metadata": {
        "id": "s3_pMOrtsKIT"
      },
      "source": [
        "## Document Representation for Neural Network Classification"
      ]
    },
    {
      "cell_type": "code",
      "execution_count": null,
      "metadata": {
        "id": "4n323gLL7WLb"
      },
      "outputs": [],
      "source": [
        "# Splitting train-validation preprocessed text\n",
        "x_train, x_val, _, _ = train_test_split(x_train, y_train,\n",
        "                                        test_size=0.2,random_state=42)\n",
        "\n",
        "# Splitting train-validation lemmatizated text\n",
        "x_train_lm, x_val_lm, _, _ = train_test_split(x_train_lm, y_train,\n",
        "                                              test_size=0.2, random_state=42)\n",
        "\n",
        "# Splitting train-validation stemmed text\n",
        "x_train_st, x_val_st, y_train, y_val = train_test_split(x_train_st, y_train,\n",
        "                                                        test_size=0.2,\n",
        "                                                        random_state=42)"
      ]
    },
    {
      "cell_type": "code",
      "execution_count": null,
      "metadata": {
        "id": "7ZSorCTk1nnF"
      },
      "outputs": [],
      "source": [
        "tfidf_vect = TfidfVectorizer(max_features = 1000)\n",
        "# Preprocessed data\n",
        "\n",
        "x_train_tfidf = tfidf_vect.fit_transform(x_train)\n",
        "x_val_tfidf = tfidf_vect.fit_transform(x_val)\n",
        "x_test_tfidf = tfidf_vect.transform(x_test)\n",
        "\n",
        "# Lemmatized data\n",
        "x_train_tfidf_lm = tfidf_vect.fit_transform(x_train_lm)\n",
        "x_val_tfidf_lm = tfidf_vect.fit_transform(x_val_lm)\n",
        "x_test_tfidf_lm = tfidf_vect.transform(x_test_lm)\n",
        "\n",
        "# Stemmed data\n",
        "x_train_tfidf_st = tfidf_vect.fit_transform(x_train_st)\n",
        "x_val_tfidf_st = tfidf_vect.fit_transform(x_val_st)\n",
        "x_test_tfidf_st = tfidf_vect.transform(x_test_st)"
      ]
    },
    {
      "cell_type": "code",
      "execution_count": null,
      "metadata": {
        "colab": {
          "base_uri": "https://localhost:8080/"
        },
        "id": "p1dsopIFEfCb",
        "outputId": "7b091449-a23a-4abc-d43e-03acb7a7e2ee"
      },
      "outputs": [
        {
          "name": "stdout",
          "output_type": "stream",
          "text": [
            "(719998,)\n",
            "(719998, 1000)\n",
            "(180000,)\n",
            "(180000, 1000)\n",
            "(195000,)\n",
            "(195000, 1000)\n"
          ]
        }
      ],
      "source": [
        "print(x_train.shape)\n",
        "print(x_train_tfidf.shape)\n",
        "print(x_val.shape)\n",
        "print(x_val_tfidf.shape)\n",
        "print(x_test.shape)\n",
        "print(x_test_tfidf.shape)"
      ]
    },
    {
      "cell_type": "code",
      "execution_count": null,
      "metadata": {
        "id": "UoWU9ZWmLOSs"
      },
      "outputs": [],
      "source": [
        "count_vec = CountVectorizer(ngram_range=(1,1), max_features = 1000)\n",
        "# Preprocessed data\n",
        "x_train_bow = count_vec.fit_transform(x_train)\n",
        "x_val_bow = count_vec.fit_transform(x_val)\n",
        "x_test_bow = count_vec.transform(x_test)\n",
        "\n",
        "# Lemmatized data\n",
        "x_train_bow_lm = count_vec.fit_transform(x_train_lm)\n",
        "x_val_bow_lm = count_vec.fit_transform(x_val_lm)\n",
        "x_test_bow_lm = count_vec.transform(x_test_lm)\n",
        "\n",
        "# Stemmed data\n",
        "x_train_bow_st = count_vec.fit_transform(x_train_st)\n",
        "x_val_bow_st = count_vec.fit_transform(x_val_st)\n",
        "x_test_bow_st = count_vec.transform(x_test_st)"
      ]
    },
    {
      "cell_type": "markdown",
      "metadata": {
        "id": "hZmFRnrvL74H"
      },
      "source": [
        "## Classification with Neural Network\n",
        "We tested a embedding neural network to see if it was better than previous classical classifiers."
      ]
    },
    {
      "cell_type": "code",
      "execution_count": null,
      "metadata": {
        "id": "eaqpD7b26V4W"
      },
      "outputs": [],
      "source": [
        "def plot_history(network_history, n_epochs):\n",
        "  \n",
        "  x_plot = list(range(1,n_epochs+1))\n",
        "  plt.figure()\n",
        "  plt.xlabel('Epochs')\n",
        "  plt.ylabel('Loss')\n",
        "  plt.plot(x_plot, network_history.history['loss'])\n",
        "  plt.plot(x_plot, network_history.history['val_loss'])\n",
        "  plt.legend(['Training', 'Validation'])\n",
        "\n",
        "  plt.figure()\n",
        "  plt.xlabel('Epochs')\n",
        "  plt.ylabel('Accuracy')\n",
        "  plt.plot(x_plot, network_history.history['accuracy'])\n",
        "  plt.plot(x_plot, network_history.history['val_accuracy'])\n",
        "  plt.legend(['Training', 'Validation'], loc='lower right')\n",
        "  plt.show()"
      ]
    },
    {
      "cell_type": "code",
      "execution_count": null,
      "metadata": {
        "id": "wBpU7VeEQqel"
      },
      "outputs": [],
      "source": [
        "def sparse_matrix_to_sparse_tensor(data: tuple):\n",
        "  if not type(data) is tuple:\n",
        "    coo = data.tocoo()\n",
        "    indices = np.mat([coo.row, coo.col]).transpose()\n",
        "    sp_tens = tf.SparseTensor(indices, coo.data, coo.shape)\n",
        "    return tf.sparse.reorder(sp_tens)\n",
        "  else:\n",
        "    data_tensor = tuple(sparse_matrix_to_sparse_tensor(x) for x in data)\n",
        "    return data_tensor"
      ]
    },
    {
      "cell_type": "code",
      "execution_count": null,
      "metadata": {
        "id": "yZeCiAc6btqw"
      },
      "outputs": [],
      "source": [
        "def build_model(in_shape:int, \n",
        "                show_net = False) -> keras.engine.functional.Functional:\n",
        "\n",
        "  tf.keras.backend.clear_session()\n",
        "  tf.keras.backend.reset_uids()\n",
        "\n",
        "  # Input Layer\n",
        "  input_ = Input(shape=(in_shape,), sparse=True)\n",
        "  dense1 = Dense(512, activation='relu')(input_)\n",
        "  drop1 = Dropout(0.3)(dense1)\n",
        "  # Hidden Units\n",
        "  dense2 = Dense(128, activation='PReLU', kernel_regularizer =\n",
        "                regularizers.l2(0.01), bias_regularizer =\n",
        "                regularizers.l2(0.01))(drop1)\n",
        "  dense3 = Dense(64, activation='PReLU')(dense2)\n",
        "  dense4 = Dense(8, activation='PReLU')(dense3)\n",
        "  # Output Layer\n",
        "  dense_out = Dense(1, activation='sigmoid')(dense4)\n",
        "\n",
        "  # Build the network\n",
        "  model = Model(inputs=input_, outputs=dense_out)\n",
        "\n",
        "  # Compiling network\n",
        "  model.compile(optimizer=SGD(0.015), loss='binary_crossentropy',\n",
        "                metrics=['accuracy'])\n",
        "\n",
        "  if show_net:\n",
        "    model.summary()\n",
        "\n",
        "  return model"
      ]
    },
    {
      "cell_type": "code",
      "execution_count": null,
      "metadata": {
        "id": "2EccftBR5T7P"
      },
      "outputs": [],
      "source": [
        "def train_model(model, x_train, x_val, y_train, y_val,\n",
        "                n_eps = 50, btc_size = 256, show_plot = False):\n",
        "  \n",
        "  # Training model\n",
        "  warnings.filterwarnings('ignore')\n",
        "  network_history_model = model.fit(x_train, y_train, epochs=n_eps,\n",
        "                                    batch_size = btc_size, verbose=0,\n",
        "                                    validation_data=(x_val, y_val))\n",
        "  if show_plot:\n",
        "    plot_history(network_history_model, n_eps)"
      ]
    },
    {
      "cell_type": "code",
      "execution_count": null,
      "metadata": {
        "id": "rz1GjvIq6Pf9"
      },
      "outputs": [],
      "source": [
        "def test_model(model, x_test, y_test):\n",
        "\n",
        "  # Evaluating model\n",
        "  evaluation_model = model.evaluate(x_test, y_test, verbose=0, return_dict=True)\n",
        "  print(evaluation_model)\n",
        "  \n",
        "  return evaluation_model"
      ]
    },
    {
      "cell_type": "markdown",
      "source": [
        "### Deep Neural Network TF-IDF"
      ],
      "metadata": {
        "id": "wtVXVeIav65h"
      }
    },
    {
      "cell_type": "code",
      "execution_count": null,
      "metadata": {
        "id": "FHbvZJrOUzPd"
      },
      "outputs": [],
      "source": [
        "# Preprocessed sparse matrix to sparse tensor | TF-IDF\n",
        "(x_train_tens,\n",
        " x_val_tens,\n",
        " x_test_tens) = sparse_matrix_to_sparse_tensor((x_train_tfidf,\n",
        "                                                x_val_tfidf, x_test_tfidf))\n",
        "\n",
        "# Lemmatized sparse matrix to sparse tensor | TF-IDF\n",
        "(x_train_tens_lm,\n",
        " x_val_tens_lm,\n",
        " x_test_tens_lm) = sparse_matrix_to_sparse_tensor((x_train_tfidf_lm,\n",
        "                                                   x_val_tfidf_lm,\n",
        "                                                   x_test_tfidf_lm))\n",
        "\n",
        "# Stemmed sparse matrix to sparse tensor | TF-IDF\n",
        "(x_train_tens_st,\n",
        " x_val_tens_st,\n",
        " x_test_tens_st) = sparse_matrix_to_sparse_tensor((x_train_tfidf_st,\n",
        "                                                   x_val_tfidf_st,\n",
        "                                                   x_test_tfidf_st))"
      ]
    },
    {
      "cell_type": "code",
      "execution_count": null,
      "metadata": {
        "colab": {
          "base_uri": "https://localhost:8080/"
        },
        "id": "qLqYU7kS3etu",
        "outputId": "63437bde-10df-406a-8720-62686a93b773"
      },
      "outputs": [
        {
          "output_type": "stream",
          "name": "stdout",
          "text": [
            "Model: \"model\"\n",
            "_________________________________________________________________\n",
            " Layer (type)                Output Shape              Param #   \n",
            "=================================================================\n",
            " input_1 (InputLayer)        [(None, 1000)]            0         \n",
            "                                                                 \n",
            " dense (Dense)               (None, 512)               512512    \n",
            "                                                                 \n",
            " dropout (Dropout)           (None, 512)               0         \n",
            "                                                                 \n",
            " dense_1 (Dense)             (None, 128)               65792     \n",
            "                                                                 \n",
            " dense_2 (Dense)             (None, 64)                8320      \n",
            "                                                                 \n",
            " dense_3 (Dense)             (None, 8)                 528       \n",
            "                                                                 \n",
            " dense_4 (Dense)             (None, 1)                 9         \n",
            "                                                                 \n",
            "=================================================================\n",
            "Total params: 587,161\n",
            "Trainable params: 587,161\n",
            "Non-trainable params: 0\n",
            "_________________________________________________________________\n"
          ]
        }
      ],
      "source": [
        "# Network suited on Preprocessed data\n",
        "shape_tfidf = x_train_tfidf.shape[1]\n",
        "net_prep_tfidf = build_model(in_shape = shape_tfidf, show_net = True)"
      ]
    },
    {
      "cell_type": "code",
      "execution_count": null,
      "metadata": {
        "id": "oIo7SpKwLgBN",
        "colab": {
          "base_uri": "https://localhost:8080/",
          "height": 705
        },
        "outputId": "8fafb061-a5c9-4ee0-a46e-b731bd25e8e8"
      },
      "outputs": [
        {
          "output_type": "display_data",
          "data": {
            "image/png": "[encoded data removed]",
            "text/plain": [
              "<Figure size 576x396 with 1 Axes>"
            ]
          },
          "metadata": {}
        },
        {
          "output_type": "display_data",
          "data": {
            "image/png": "[encoded data removed]",
            "text/plain": [
              "<Figure size 576x396 with 1 Axes>"
            ]
          },
          "metadata": {}
        }
      ],
      "source": [
        "train_model(net_prep_tfidf, x_train_tens, x_val_tens, y_train, y_val,\n",
        "            btc_size = 128, show_plot = True)"
      ]
    },
    {
      "cell_type": "code",
      "execution_count": null,
      "metadata": {
        "id": "DCEJs8aOMRSw",
        "colab": {
          "base_uri": "https://localhost:8080/"
        },
        "outputId": "e5652011-4847-4133-b1e7-b07e49e42193"
      },
      "outputs": [
        {
          "output_type": "stream",
          "name": "stdout",
          "text": [
            "{'loss': 0.7930805683135986, 'accuracy': 0.5990440845489502}\n"
          ]
        }
      ],
      "source": [
        "eval_prep_tfidf = test_model(net_prep_tfidf, x_test_tens, y_test)"
      ]
    },
    {
      "cell_type": "code",
      "source": [
        "# Network suited on Lemmatized data\n",
        "net_lm_tfidf = build_model(in_shape = shape_tfidf)"
      ],
      "metadata": {
        "id": "-S9GTK4rvz3a"
      },
      "execution_count": null,
      "outputs": []
    },
    {
      "cell_type": "code",
      "source": [
        "train_model(net_lm_tfidf, x_train_tens_lm, x_val_tens_lm, y_train, y_val,\n",
        "            btc_size = 128, show_plot = True)"
      ],
      "metadata": {
        "id": "RNY5Frv8xtr7"
      },
      "execution_count": null,
      "outputs": []
    },
    {
      "cell_type": "code",
      "source": [
        "eval_lm_tfidf = test_model(net_lm_tfidf, x_test_tens_lm, y_test)"
      ],
      "metadata": {
        "id": "n1V7v7FQxvVF",
        "colab": {
          "base_uri": "https://localhost:8080/"
        },
        "outputId": "1c4b6c39-20c9-4438-a749-b5fccea7b2cd"
      },
      "execution_count": null,
      "outputs": [
        {
          "output_type": "stream",
          "name": "stdout",
          "text": [
            "{'loss': 2.731544017791748, 'accuracy': 0.4166790544986725}\n"
          ]
        }
      ]
    },
    {
      "cell_type": "code",
      "source": [
        "# Network suited on Stemmed data\n",
        "net_st_tfidf = build_model(in_shape = shape_tfidf)"
      ],
      "metadata": {
        "id": "ednczzZMzPn0"
      },
      "execution_count": null,
      "outputs": []
    },
    {
      "cell_type": "code",
      "source": [
        "train_model(net_st_tfidf, x_train_tens_st, x_val_tens_st, y_train, y_val,\n",
        "            btc_size = 128, show_plot = True)"
      ],
      "metadata": {
        "id": "MxQ1PMcQzPn1",
        "colab": {
          "base_uri": "https://localhost:8080/",
          "height": 705
        },
        "outputId": "0970a344-45ee-46bc-f5cc-8b4e931a1ca8"
      },
      "execution_count": null,
      "outputs": [
        {
          "output_type": "display_data",
          "data": {
            "image/png": "[encoded data removed]",
            "text/plain": [
              "<Figure size 576x396 with 1 Axes>"
            ]
          },
          "metadata": {}
        },
        {
          "output_type": "display_data",
          "data": {
            "image/png": "[encoded data removed]",
            "text/plain": [
              "<Figure size 576x396 with 1 Axes>"
            ]
          },
          "metadata": {}
        }
      ]
    },
    {
      "cell_type": "code",
      "source": [
        "eval_st_tfidf = test_model(net_st_tfidf, x_test_tens_st, y_test)"
      ],
      "metadata": {
        "id": "PF0jZK0JzPn1",
        "colab": {
          "base_uri": "https://localhost:8080/"
        },
        "outputId": "e391b250-5fb6-4ea1-ea27-1d8a76d5c767"
      },
      "execution_count": null,
      "outputs": [
        {
          "output_type": "stream",
          "name": "stdout",
          "text": [
            "{'loss': 0.6574952006340027, 'accuracy': 0.6699419021606445}\n"
          ]
        }
      ]
    },
    {
      "cell_type": "markdown",
      "source": [
        "### Deep Neural Network BoW"
      ],
      "metadata": {
        "id": "a8yL8lpjzlZQ"
      }
    },
    {
      "cell_type": "code",
      "source": [
        "# Preprocessed sparse matrix to sparse tensor | BoW\n",
        "(x_train_tens_bow,\n",
        " x_val_tens_bow,\n",
        " x_test_tens_bow) = sparse_matrix_to_sparse_tensor((x_train_bow,\n",
        "                                                    x_val_bow, x_test_bow))\n",
        "\n",
        "# Lemmatized sparse matrix to sparse tensor | BoW\n",
        "(x_train_tens_bow_lm,\n",
        " x_val_tens_bow_lm,\n",
        " x_test_tens_bow_lm) = sparse_matrix_to_sparse_tensor((x_train_bow_lm,\n",
        "                                                       x_val_bow_lm,\n",
        "                                                       x_test_bow_lm))\n",
        "\n",
        "# Stemmed sparse matrix to sparse tensor | BoW\n",
        "(x_train_tens_bow_st,\n",
        " x_val_tens_bow_st,\n",
        " x_test_tens_bow_st) = sparse_matrix_to_sparse_tensor((x_train_bow_st,\n",
        "                                                       x_val_bow_st,\n",
        "                                                       x_test_bow_st))"
      ],
      "metadata": {
        "id": "1cW5aiX0uFn1"
      },
      "execution_count": null,
      "outputs": []
    },
    {
      "cell_type": "code",
      "execution_count": null,
      "metadata": {
        "colab": {
          "base_uri": "https://localhost:8080/"
        },
        "outputId": "2f11a56b-ef05-4efa-a047-ccb6655dd517",
        "id": "UzPov4AMzlZR"
      },
      "outputs": [
        {
          "output_type": "stream",
          "name": "stdout",
          "text": [
            "Model: \"model\"\n",
            "_________________________________________________________________\n",
            " Layer (type)                Output Shape              Param #   \n",
            "=================================================================\n",
            " input_1 (InputLayer)        [(None, 1000)]            0         \n",
            "                                                                 \n",
            " dense (Dense)               (None, 512)               512512    \n",
            "                                                                 \n",
            " dropout (Dropout)           (None, 512)               0         \n",
            "                                                                 \n",
            " dense_1 (Dense)             (None, 128)               65792     \n",
            "                                                                 \n",
            " dense_2 (Dense)             (None, 64)                8320      \n",
            "                                                                 \n",
            " dense_3 (Dense)             (None, 8)                 528       \n",
            "                                                                 \n",
            " dense_4 (Dense)             (None, 1)                 9         \n",
            "                                                                 \n",
            "=================================================================\n",
            "Total params: 587,161\n",
            "Trainable params: 587,161\n",
            "Non-trainable params: 0\n",
            "_________________________________________________________________\n"
          ]
        }
      ],
      "source": [
        "# Network suited on Preprocessed data\n",
        "shape_bow = x_train_bow.shape[1]\n",
        "net_prep_bow = build_model(in_shape = shape_bow, show_net = True)"
      ]
    },
    {
      "cell_type": "code",
      "execution_count": null,
      "metadata": {
        "id": "bFEvtKyXzlZS",
        "colab": {
          "base_uri": "https://localhost:8080/",
          "height": 705
        },
        "outputId": "1c2d28c8-fa5f-448e-b907-e6af51c1a8c9"
      },
      "outputs": [
        {
          "output_type": "display_data",
          "data": {
            "image/png": "[encoded data removed]",
            "text/plain": [
              "<Figure size 576x396 with 1 Axes>"
            ]
          },
          "metadata": {}
        },
        {
          "output_type": "display_data",
          "data": {
            "image/png": "[encoded data removed]",
            "text/plain": [
              "<Figure size 576x396 with 1 Axes>"
            ]
          },
          "metadata": {}
        }
      ],
      "source": [
        "train_model(net_prep_bow, x_train_tens_bow, x_val_tens_bow, y_train, y_val,\n",
        "            btc_size = 128, show_plot = True)"
      ]
    },
    {
      "cell_type": "code",
      "execution_count": null,
      "metadata": {
        "id": "mSyFCfz6zlZT",
        "colab": {
          "base_uri": "https://localhost:8080/"
        },
        "outputId": "8bd9581a-ccb9-4648-9c8c-966ec75f6476"
      },
      "outputs": [
        {
          "output_type": "stream",
          "name": "stdout",
          "text": [
            "{'loss': 0.8675904273986816, 'accuracy': 0.5777773261070251}\n"
          ]
        }
      ],
      "source": [
        "eval_prep_bow = test_model(net_prep_bow, x_test_tens_bow, y_test)"
      ]
    },
    {
      "cell_type": "code",
      "source": [
        "# Network suited on Lemmatized data\n",
        "net_lm_bow = build_model(in_shape = shape_bow)"
      ],
      "metadata": {
        "id": "U4NxRhHUzlZT"
      },
      "execution_count": null,
      "outputs": []
    },
    {
      "cell_type": "code",
      "source": [
        "train_model(net_lm_bow, x_train_tens_bow_lm, x_val_tens_bow_lm, y_train, y_val,\n",
        "            btc_size = 128, show_plot = True)"
      ],
      "metadata": {
        "id": "Ln2J5i6AgRXP"
      },
      "execution_count": null,
      "outputs": []
    },
    {
      "cell_type": "code",
      "source": [
        "eval_lm_bow = test_model(net_lm_bow, x_test_tens_bow_lm, y_test)"
      ],
      "metadata": {
        "id": "ZEyiYej7gTZp"
      },
      "execution_count": null,
      "outputs": []
    },
    {
      "cell_type": "code",
      "source": [
        "# Network suited on Stemmed data\n",
        "net_st_bow = build_model(in_shape = shape_bow)"
      ],
      "metadata": {
        "id": "78gYWaMBzlZU"
      },
      "execution_count": null,
      "outputs": []
    },
    {
      "cell_type": "code",
      "source": [
        "train_model(net_st_bow, x_train_tens_bow_st, x_val_tens_bow_st, y_train, y_val,\n",
        "            btc_size = 128, show_plot = True)"
      ],
      "metadata": {
        "id": "wnxxb21dzlZU"
      },
      "execution_count": null,
      "outputs": []
    },
    {
      "cell_type": "code",
      "source": [
        "eval_st_bow = test_model(net_st_bow, x_test_tens_bow_st, y_test)"
      ],
      "metadata": {
        "id": "Z-5R0CAvzlZU"
      },
      "execution_count": null,
      "outputs": []
    },
    {
      "cell_type": "markdown",
      "metadata": {
        "id": "Y5Lmxy3rv8Lb"
      },
      "source": [
        "## Clustering"
      ]
    },
    {
      "cell_type": "code",
      "execution_count": null,
      "metadata": {
        "id": "MFlUoGw1wHpB"
      },
      "outputs": [],
      "source": [
        "# We sample a subset of data, because of the computational burden\n",
        "data = test.sample(n = 100000, replace = False, random_state = 1)"
      ]
    },
    {
      "cell_type": "code",
      "execution_count": null,
      "metadata": {
        "id": "qA6kGERewQYm"
      },
      "outputs": [],
      "source": [
        "# Preprocessed text\n",
        "x = data.preprocessed.values\n",
        "\n",
        "# Lemmatized text\n",
        "x_lm = data.lemmatized.values\n",
        "\n",
        "# Stemmed text (Porter)\n",
        "x_st = data.stemmed.values"
      ]
    },
    {
      "cell_type": "code",
      "execution_count": null,
      "metadata": {
        "id": "n5HOiC7JwZoK"
      },
      "outputs": [],
      "source": [
        "# Text representation: TF-IDF\n",
        "tfidf_vect = TfidfVectorizer(max_features=1000)\n",
        "\n",
        "# Preoprocessed text\n",
        "x_tfidf = tfidf_vect.fit_transform(x)\n",
        "\n",
        "# Lemmatized text\n",
        "x_tfidf_lm = tfidf_vect.fit_transform(x_lm)\n",
        "\n",
        "# # Stemmed text\n",
        "x_tfidf_st = tfidf_vect.fit_transform(x_st)"
      ]
    },
    {
      "cell_type": "code",
      "execution_count": null,
      "metadata": {
        "id": "CjejJPWSwnCT"
      },
      "outputs": [],
      "source": [
        "# Text representation BoW\n",
        "count_vec = CountVectorizer(ngram_range=(1,1), max_features = 1000)        \n",
        "\n",
        "# Preprocessed data                   \n",
        "x_bow = count_vec.fit_transform(x)\n",
        "\n",
        "# Lemmatized data\n",
        "x_bow_lm = count_vec.fit_transform(x_lm)\n",
        "\n",
        "# Stemmed data\n",
        "x_bow_st = count_vec.fit_transform(x_st)"
      ]
    },
    {
      "cell_type": "markdown",
      "metadata": {
        "id": "lH5j_-Kbwtgs"
      },
      "source": [
        "First we perform a dimensionality reduction with SVD."
      ]
    },
    {
      "cell_type": "code",
      "execution_count": null,
      "metadata": {
        "id": "BbnvCmKaws92"
      },
      "outputs": [],
      "source": [
        "# Dimensionality reduction\n",
        "svd = TruncatedSVD(n_components = 2)\n",
        "\n",
        "x_tfidf = svd.fit_transform(x_tfidf) \n",
        "x_tfidf_lm = svd.fit_transform(x_tfidf_lm) \n",
        "x_tfidf_st = svd.fit_transform(x_tfidf_st) \n",
        "\n",
        "x_bow = svd.fit_transform(x_bow)\n",
        "x_bow_lm = svd.fit_transform(x_bow_lm) \n",
        "x_bow_st = svd.fit_transform(x_bow_st) "
      ]
    },
    {
      "cell_type": "markdown",
      "metadata": {
        "id": "4QuaOPoiyKQ7"
      },
      "source": [
        "We develop a function which clusters data and compute the Silhoutte score."
      ]
    },
    {
      "cell_type": "code",
      "execution_count": null,
      "metadata": {
        "id": "iS21dRbyxOpC"
      },
      "outputs": [],
      "source": [
        "# Clustering functions\n",
        "def cluster_score(clf, data):\n",
        "  clf.fit_predict(data)\n",
        "  print('Silhoutte score for preprocessed data and tfidf representation:' , \n",
        "      metrics.silhouette_score(data, clf.labels_, metric='euclidean'))"
      ]
    },
    {
      "cell_type": "markdown",
      "metadata": {
        "id": "54SJlH5nw_Ct"
      },
      "source": [
        "### **KMeans**"
      ]
    },
    {
      "cell_type": "code",
      "execution_count": null,
      "metadata": {
        "colab": {
          "base_uri": "https://localhost:8080/",
          "height": 393
        },
        "id": "Aa_caGXCxBHF",
        "outputId": "9baea743-9e58-46a7-abec-d7e6eed46104"
      },
      "outputs": [
        {
          "data": {
            "image/png": "[encoded data removed]",
            "text/plain": [
              "<Figure size 576x396 with 2 Axes>"
            ]
          },
          "metadata": {},
          "output_type": "display_data"
        },
        {
          "data": {
            "text/plain": [
              "<matplotlib.axes._subplots.AxesSubplot at 0x7f1376c005d0>"
            ]
          },
          "execution_count": 10,
          "metadata": {},
          "output_type": "execute_result"
        }
      ],
      "source": [
        "# Finding the optimal number of cluster for the TF-IDF representation\n",
        "model = KMeans(random_state=1)\n",
        "visualizer = KElbowVisualizer(model, k=(2,10), metric='silhouette') \n",
        "\n",
        "visualizer.fit(x_tfidf)\n",
        "visualizer.show()"
      ]
    },
    {
      "cell_type": "markdown",
      "metadata": {
        "id": "2MJZ5gz_xImm"
      },
      "source": [
        "Silhouette plot:"
      ]
    },
    {
      "cell_type": "code",
      "execution_count": null,
      "metadata": {
        "colab": {
          "base_uri": "https://localhost:8080/",
          "height": 483
        },
        "id": "wb5X932GxKGG",
        "outputId": "18aeda72-7592-4514-e6f9-efcfee36628d"
      },
      "outputs": [
        {
          "data": {
            "image/png": "[encoded data removed]",
            "text/plain": [
              "<Figure size 1080x576 with 4 Axes>"
            ]
          },
          "metadata": {},
          "output_type": "display_data"
        }
      ],
      "source": [
        "from yellowbrick.cluster import SilhouetteVisualizer\n",
        "fig, ax = plt.subplots(2, 2, figsize=(15,8))\n",
        "for i in [2,3,4,5]:\n",
        "    \n",
        "    km = KMeans(n_clusters=i, init='k-means++', n_init=10, max_iter=100, random_state=42)\n",
        "    q, mod = divmod(i, 2)\n",
        "    \n",
        "    visualizer = SilhouetteVisualizer(km, colors='yellowbrick', ax=ax[q-1][mod])\n",
        "    visualizer.fit(x_tfidf)"
      ]
    },
    {
      "cell_type": "code",
      "execution_count": null,
      "metadata": {
        "colab": {
          "base_uri": "https://localhost:8080/"
        },
        "id": "LTrz_BjIxTCj",
        "outputId": "a49585bd-40d7-426a-c1c0-2fc08c3d92c5"
      },
      "outputs": [
        {
          "output_type": "stream",
          "name": "stdout",
          "text": [
            "Silhoutte score for preprocessed data and tfidf representation: 0.4568219503850316\n",
            "Silhoutte score for preprocessed data and tfidf representation: 0.6280771534487922\n",
            "Silhoutte score for preprocessed data and tfidf representation: 0.6211928285661263\n"
          ]
        }
      ],
      "source": [
        "kmeans = KMeans(n_clusters = 2, random_state=1)\n",
        "cluster_score(kmeans, x_tfidf)\n",
        "cluster_score(kmeans, x_tfidf_lm)\n",
        "cluster_score(kmeans, x_tfidf_st)"
      ]
    },
    {
      "cell_type": "markdown",
      "metadata": {
        "id": "jha32m3yxWjI"
      },
      "source": [
        "For confirmation, we also find the optimal number of clusters for the BoW representation."
      ]
    },
    {
      "cell_type": "code",
      "execution_count": null,
      "metadata": {
        "id": "g7Bb6hpixV-F"
      },
      "outputs": [],
      "source": [
        "model = KMeans(random_state=1)\n",
        "visualizer = KElbowVisualizer(model, k=(2,10), metric='silhouette') \n",
        "\n",
        "visualizer.fit(x_tfidf_bow)\n",
        "visualizer.show()"
      ]
    },
    {
      "cell_type": "code",
      "execution_count": null,
      "metadata": {
        "id": "vzVbfbe8xsZ8",
        "colab": {
          "base_uri": "https://localhost:8080/"
        },
        "outputId": "1e5224ad-66ad-4365-8b52-1efcac620ec6"
      },
      "outputs": [
        {
          "output_type": "stream",
          "name": "stdout",
          "text": [
            "Silhoutte score for preprocessed data and tfidf representation: 0.5450374489357727\n",
            "Silhoutte score for preprocessed data and tfidf representation: 0.6170784438340545\n",
            "Silhoutte score for preprocessed data and tfidf representation: 0.45107119264109496\n"
          ]
        }
      ],
      "source": [
        "kmeans = KMeans(n_clusters = 2, random_state=1)\n",
        "cluster_score(kmeans, x_bow)\n",
        "cluster_score(kmeans, x_bow_lm)\n",
        "cluster_score(kmeans, x_bow_st)"
      ]
    },
    {
      "cell_type": "markdown",
      "metadata": {
        "id": "gO66r7VexxwC"
      },
      "source": [
        "### **Agglomerative Clustering**\n",
        "We use the dendogram to find out the best number of cluster.\n",
        "Because of the dataset dimension and the scarceness of Colab's resources, we perform the cell below in our local machine. "
      ]
    },
    {
      "cell_type": "code",
      "execution_count": null,
      "metadata": {
        "id": "wTGz9HEFx1JP"
      },
      "outputs": [],
      "source": [
        "dendrogram = sch.dendrogram(sch.linkage(x_tfidf, method  = \"ward\"))\n",
        "plt.title('Dendrogram')\n",
        "plt.xlabel('Reviews')\n",
        "plt.ylabel('Euclidean distances')\n",
        "plt.show()"
      ]
    },
    {
      "cell_type": "code",
      "execution_count": null,
      "metadata": {
        "id": "JAPtyT9ZyARs"
      },
      "outputs": [],
      "source": [
        "agglomerative = AgglomerativeClustering(n_clusters = 2)\n",
        "cluster_score(agglomerative, x_tfidf)\n",
        "cluster_score(agglomerative, x_tfidf_lm)\n",
        "cluster_score(agglomerative, x_tfidf_st)"
      ]
    },
    {
      "cell_type": "code",
      "execution_count": null,
      "metadata": {
        "id": "MfmB1FHJyCjG"
      },
      "outputs": [],
      "source": [
        "cluster_score(agglomerative, x_bow)\n",
        "cluster_score(agglomerative, x_bow_lm)\n",
        "cluster_score(agglomerative, x_bow_st)"
      ]
    }
  ]
}